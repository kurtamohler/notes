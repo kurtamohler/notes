{
 "cells": [
  {
   "cell_type": "markdown",
   "metadata": {},
   "source": [
    "I want to make an electromagnet. I understand qualitatively how to make one--wrap some wire up into a coil, pass a current through it, and the current will induce a magnetic field. But how do I optimize the design? Would it maybe be possible to create a rotating magnetic field using two or more stationary electromagnets? What is the simplest way to levitate objects with some electromagnets?"
   ]
  },
  {
   "cell_type": "markdown",
   "metadata": {},
   "source": [
    "First, I need to know the theory behind electromagnets. The Biot-Savart law says that the magnetic field due to a steady line current is:"
   ]
  },
  {
   "cell_type": "markdown",
   "metadata": {},
   "source": [
    "$$\n",
    "\\mathbf B(\\mathbf r)\n",
    "= \\frac{\\mu_0}{4 \\pi} \\int \\frac{\\mathbf I \\times \\hat s}{s^2} dl'\n",
    "= \\frac{\\mu_0}{4 \\pi} I \\int \\frac{d \\mathbf I' \\times \\hat s}{s^2}\n",
    "$$"
   ]
  },
  {
   "cell_type": "markdown",
   "metadata": {},
   "source": [
    "$$\\mathbf s = \\mathbf r - \\mathbf r'$$\n",
    "\n",
    "$$ \\mu_0 = 4\\pi \\times 10^{-7} \\text{ N/A}^2"
   ]
  },
  {
   "cell_type": "markdown",
   "metadata": {},
   "source": [
    "Where $\\mathbf r$ is the position of a test charge, $\\mathbf r'$ is a position along the path of the line current, $d l'$ is an element of length along the path of the line current, and $\\mu_0$ is called the permeability of free space.\n",
    "\n",
    "The integral is a path integral along the path that the current flows. You could also have multiple different steady line currents and even circuits with branching currents--you would simply use the principle of superposition to add up the magnetic fields due to each line of steady current.\n",
    "\n",
    "The magnetic field is in units of newtons per ampere-meter $N/(A \\cdot m)$, or teslas T. An alternate unit is called a guass, G, where $10,000 \\text{ G} = 1 \\text{ T}$."
   ]
  },
  {
   "cell_type": "markdown",
   "metadata": {},
   "source": [
    "### Magnetic field along axis of circular loop current\n",
    "\n",
    "Let's find the magnetic field of a circular wire loop of radius $R$ centered at the origin that has a steady current $I$ going through it. I'll parameterize the current vector $\\mathbf I$ and the position along the circular wire $\\mathbf r'$ using an angle $\\phi$. For now, I'll just find the field at a distance $z$ above the center of the loop."
   ]
  },
  {
   "cell_type": "markdown",
   "metadata": {},
   "source": [
    "$$\n",
    "\\mathbf I = -I \\sin\\phi \\hat x + I \\cos\\phi \\hat y\n",
    "$$"
   ]
  },
  {
   "cell_type": "markdown",
   "metadata": {},
   "source": [
    "$$\n",
    "\\mathbf r' = R \\cos\\phi \\hat x + R \\sin\\phi \\hat y\n",
    "$$"
   ]
  },
  {
   "cell_type": "markdown",
   "metadata": {},
   "source": [
    "$$\n",
    "\\mathbf r = z \\hat z\n",
    "$$"
   ]
  },
  {
   "cell_type": "markdown",
   "metadata": {},
   "source": [
    "$$\n",
    "\\mathbf s = - R\\cos\\phi \\hat x - R\\sin\\phi \\hat y + z \\hat z\n",
    "$$"
   ]
  },
  {
   "cell_type": "markdown",
   "metadata": {},
   "source": [
    "$$\n",
    "s = \\sqrt{R^2 + z^2}\n",
    "$$"
   ]
  },
  {
   "cell_type": "markdown",
   "metadata": {},
   "source": [
    "$$\n",
    "\\mathbf I \\times \\hat s\n",
    "\n",
    "= \\frac{1}{s} (\\mathbf I \\times \\mathbf s)\n",
    "\n",
    "= \\frac{1}{s}\n",
    "\\begin{vmatrix}\n",
    "\\hat x & \\hat y & \\hat z \\\\\n",
    "-I \\sin\\phi & I \\cos\\phi & 0 \\\\\n",
    "-R \\cos\\phi & -R \\sin\\phi & z\n",
    "\\end{vmatrix}\n",
    "$$"
   ]
  },
  {
   "cell_type": "markdown",
   "metadata": {},
   "source": [
    "$$\n",
    "= \\frac{1}{s} \\Bigl(\n",
    "    I z \\cos\\phi \\hat x\n",
    "  + I z \\sin\\phi \\hat y\n",
    "  + (IR \\sin^2\\phi + IR \\cos^2\\phi) \\hat z\n",
    "\\Bigr)\n",
    "$$"
   ]
  },
  {
   "cell_type": "markdown",
   "metadata": {},
   "source": [
    "$$\n",
    "= \\frac{I}{s} \\Bigl(\n",
    "    z \\cos\\phi \\hat x\n",
    "  + z \\sin\\phi \\hat y\n",
    "  + R \\hat z\n",
    "\\Bigr)\n",
    "$$"
   ]
  },
  {
   "cell_type": "markdown",
   "metadata": {},
   "source": [
    "$$\n",
    "dl' = dl'_\\phi = R d\\phi\n",
    "$$"
   ]
  },
  {
   "cell_type": "markdown",
   "metadata": {},
   "source": [
    "$$\n",
    "\\mathbf B\n",
    "= \\frac{\\mu_0}{4 \\pi} \\int \\frac{\\mathbf I \\times \\hat s}{s^2} dl'\n",
    "= \\frac{\\mu_0}{4 \\pi} \\int_{\\phi=0}^{2\\pi} \\frac{\\frac{I}{s}(z \\cos\\phi \\hat x + z \\sin\\phi \\hat y + R \\hat z)}{s^2} R d\\phi\n",
    "$$"
   ]
  },
  {
   "cell_type": "markdown",
   "metadata": {},
   "source": [
    "$$\n",
    "= \\frac{\\mu_0}{4 \\pi} \\frac{IR}{s^3} \\int_{\\phi=0}^{2\\pi} (z \\cos\\phi \\hat x + z \\sin\\phi \\hat y + R \\hat z) d\\phi\n",
    "$$"
   ]
  },
  {
   "cell_type": "markdown",
   "metadata": {},
   "source": [
    "$$\n",
    "= \\frac{\\mu_0}{4 \\pi} \\frac{IR}{s^3} \\Biggl(\n",
    "\n",
    "  z \\hat x \\int_{\\phi=0}^{2\\pi} \\cos\\phi d\\phi\n",
    "+ z \\hat y \\int_{\\phi=0}^{2\\pi} \\sin\\phi d\\phi\n",
    "+ R \\hat z \\int_{\\phi=0}^{2\\pi} d\\phi\n",
    "\\Biggr)\n",
    "$$"
   ]
  },
  {
   "cell_type": "markdown",
   "metadata": {},
   "source": [
    "$$\n",
    "= \\frac{\\mu_0}{4 \\pi} \\frac{IR}{s^3}\n",
    "(2\\pi R \\hat z)\n",
    "$$"
   ]
  },
  {
   "cell_type": "markdown",
   "metadata": {},
   "source": [
    "$$\n",
    "\\mathbf B(z)\n",
    "= \\frac{\\mu_0 I R^2}{2(R^2 + z^2)^{3/2}} \\hat z\n",
    "= \\frac{\\mu_0 I}{2R^{-2}(R^2 + z^2)^{3/2}} \\hat z\n",
    "$$"
   ]
  },
  {
   "cell_type": "markdown",
   "metadata": {},
   "source": []
  }
 ],
 "metadata": {
  "language_info": {
   "name": "python"
  }
 },
 "nbformat": 4,
 "nbformat_minor": 2
}
