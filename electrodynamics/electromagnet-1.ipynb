{
 "cells": [
  {
   "cell_type": "markdown",
   "metadata": {},
   "source": [
    "# Electromagnetic levitation\n",
    "\n",
    "I want to make an electromagnet. I understand qualitatively how to do it--wrap some wire up into a coil, pass a current through it, and the current will induce a magnetic field that wraps around the loop according to the right hand rule. The north pole of the magnet is along one side of the axis of the loop, and the south pole is on the other side.\n",
    "\n",
    "I want to levitate objects with an electromagnet, but how do I do that? How do I optimize the design?"
   ]
  },
  {
   "cell_type": "markdown",
   "metadata": {},
   "source": [
    "## Theory\n",
    "\n",
    "First, I need to know some of the theory behind electromagnets. The Biot-Savart law says that the magnetic field due to a steady line current is:"
   ]
  },
  {
   "cell_type": "markdown",
   "metadata": {},
   "source": [
    "$$\n",
    "\\mathbf B(\\mathbf r)\n",
    "= \\frac{\\mu_0}{4 \\pi} \\int \\frac{\\mathbf I \\times \\hat s}{s^2} dl'\n",
    "= \\frac{\\mu_0}{4 \\pi} I \\int \\frac{d \\mathbf I' \\times \\hat s}{s^2}\n",
    "$$"
   ]
  },
  {
   "cell_type": "markdown",
   "metadata": {},
   "source": [
    "$$\\mathbf s = \\mathbf r - \\mathbf r'$$\n",
    "\n",
    "$$ \\mu_0 = 4\\pi \\times 10^{-7} \\text{ N/A}^2 $$"
   ]
  },
  {
   "cell_type": "markdown",
   "metadata": {},
   "source": [
    "Where $\\mathbf r$ is the position of a test charge, $\\mathbf r'$ is a position along the path of the line current, $d l'$ is an element of length along the path of the line current, and $\\mu_0$ is called the permeability of free space.\n",
    "\n",
    "The integral is a path integral along the path that the current flows. You could also have multiple different steady line currents and even circuits with branching currents--you would simply use the principle of superposition to add up the magnetic fields due to each line of steady current.\n",
    "\n",
    "The magnetic field is in units of newtons per ampere-meter $N/(A \\cdot m)$, or teslas T. An alternate unit is called a guass, G, where $10,000 \\text{ G} = 1 \\text{ T}$."
   ]
  },
  {
   "cell_type": "markdown",
   "metadata": {},
   "source": [
    "The Lorentz force law integrated over the length of a steady current carrying wire tells us how much magnetic force the wire experiences when it is placed in a magnetic field:"
   ]
  },
  {
   "cell_type": "markdown",
   "metadata": {},
   "source": [
    "$$\n",
    "\\mathbf F_\\text{mag}\n",
    "= \\int I (d\\mathbf l \\times \\mathbf B)\n",
    "= I \\int (d\\mathbf l \\times \\mathbf B)\n",
    "$$"
   ]
  },
  {
   "cell_type": "markdown",
   "metadata": {},
   "source": [
    "$d\\mathbf l$ represents a small section of the wire. The force is in newtons N."
   ]
  },
  {
   "cell_type": "markdown",
   "metadata": {},
   "source": [
    "From the Biot-Savart law, it's possible to derive Ampere's Law, which can be expressed like so:"
   ]
  },
  {
   "cell_type": "markdown",
   "metadata": {},
   "source": [
    "$$\n",
    "\\oint \\mathbf B \\cdot d \\mathbf l = \\mu_0 I_\\text{enc}\n",
    "$$"
   ]
  },
  {
   "cell_type": "markdown",
   "metadata": {},
   "source": [
    "This means that if we take some closed boundary loop and calculate the line integral of the magnetic field over that loop, the result is proportional to the amount of current that passes through that loop.\n",
    "\n",
    "Ampere's law is very similar to Gauss's law, but it's for magnetic fields rather than electric fields, and it uses a line integral rather than a surface integral.\n",
    "\n",
    "Ampere's law is typically only useful in cases that have symmetries such that we can somehow bring the $\\mathbf B$ term outside of the integral--for instance, if we know that $\\mathbf B \\cdot d\\mathbf l$ is constant over the whole loop."
   ]
  },
  {
   "cell_type": "markdown",
   "metadata": {},
   "source": [
    "Now that we have some tools to calculate the magnetic force between two current carrying wires, let's try to apply them to levitate something with an electromagnet."
   ]
  },
  {
   "cell_type": "markdown",
   "metadata": {},
   "source": [
    "## Project: Levitate a ring magnet on a vertical stick\n",
    "\n",
    "I decided to start with a concrete and relatively simple electromagnetic levitation project.\n",
    "\n",
    "It's fun to stack two permanent ring magnets with opposed poles through a stick. The top magnet floats stably since the stick confines it to only one degree of freedom. (Without the stick, the top magnet would have six degrees of freedom, three rotation and three position, and the stationary magnet on the bottom wouldn't be sufficient to stabilize it.) The top magnet bounces up and down like a spring if you press it all the way down and release it.\n",
    "\n",
    "So I thought, wouldn't it be cool to replace the bottom magnet with an electromagnet? That way, I can control the strength of the field pushing the top magnet to make it move up and down. If I make it look nice, it could be an interesting electronic art piece."
   ]
  },
  {
   "cell_type": "markdown",
   "metadata": {},
   "source": [
    "### Permanent ring magnet characterization\n",
    "\n",
    "In order to figure out what kind of design is necessary for the electromagnet, I need to understand the mechanics of the situation with two permanent ring magnets. Since I want to replace the bottom magnet with an electromagnet, I'll need to make sure the electromagnet I design is as strong as the permanent magnet, so I need to somehow quantify the strength of the magnets.\n",
    "\n",
    "The first step is to take some real world measurements. I have two ring magnets that both weight about 17 g. When I stack them opposed through a vertical stick, the equilibrium height is about 21 mm, measured from the bottom side of both magnets. The magnets have an outer radius of 15 mm, inner radius of 6 mm, and cylindrical height of 6 mm."
   ]
  },
  {
   "cell_type": "markdown",
   "metadata": {},
   "source": [
    "#### Loop current approximation\n",
    "\n",
    "I assume that the fields generated by these permanent magnets can be approximated with the fields generated by two current loops. This is only an approximation, but it should be able to give a roughly similar magnetic field within an order of magnitude, if we pick good parameters for the current loops. Let's say the bottom magnet is now \"loop 1\" and the top magnet is \"loop 2\".\n",
    "\n",
    "Both current loops have radius $R$, equal and opposite currents $I_1 = I $ and $I_2 = -I$ so that the magnetic poles are opposed, mass $m$, and axes aligned vertically with a height of $l$ between them. Let's say that $I_1$ is counterclockwise in the xy-plane, and $I_2$ is clockwise. The bottom loop is in a fixed position with its center at the origin, and the top loop is levitating in the air with its center at $l \\hat z$. There is no one obvious choice for $R$, but for now, let's say that $R = (15 + 6) / 2 = 10.5$ mm, the average of the inner and outer radii of the ring magnets.\n",
    "\n",
    "Now the task is to find the current required to exert enough magnetic force on loop 2 to counter the gravitational force. One way to find the magnetic force on loop 2 is to first find the magnetic field, $\\mathbf B_1(\\mathbf r_2)$, generated by loop 1 at all positions $\\mathbf r_2$ within loop 2. Then we can apply the Lorentz force law to find the magnetic force on loop 2 due to the magnetic field of loop 1.\n",
    "\n",
    "Of course, we could calculate $\\mathbf B_1$ with the Biot-Savart law. But I've tried this, and the integral it gives is too complicated for me--I have no idea how to solve it analytically. Fortunately, there is another helpful approximation we can make."
   ]
  },
  {
   "cell_type": "markdown",
   "metadata": {},
   "source": [
    "#### Infinite line current approximation for $l \\ll R$\n",
    "\n",
    "If the two loop currents are very close to each other, $l \\ll R$, then the strength of the magnetic field $B_1(\\mathbf r_2)$ generated by loop 1 is approximately equal to the magnetic field a finite distance $l$ away from an infinite line current. You can think about it like this: if we zoom in very closely to a particular section of the two loops, it will start to look like the loops are two straight parallel lines that continue forever. This is much like the fact that the Earth looks like an infinite flat plane to a person standing on the surface, even though it's actually spherical--if Earth has radius $R$ and your height is $l$, with $l \\ll R$, the surface of the Earth is approximately an infinite flat plane.\n",
    "\n",
    "It's very important to note that from our measurements of the real world case of the two permanent magnets, the magnets were actually much farther apart than this. In fact, $l \\gt R$ for the $R$ we chose. However, in order to levitate a magnet to a large distance, we first need to be able to levitate it to a short distance. So this approximation is useful--it will give us a good minimum current requirement to at least levitate the magnet to a short distance."
   ]
  },
  {
   "cell_type": "markdown",
   "metadata": {},
   "source": [
    "To calculate the strength of the field a distance $l$ away from an infinite line current, we can use Ampere's law. For the line integral, I'll use a circle of radius $l$ centered around the current, with axis parallel to the line current."
   ]
  },
  {
   "cell_type": "markdown",
   "metadata": {},
   "source": [
    "$$\n",
    "\\oint \\mathbf B \\cdot d\\mathbf l = \\mu_0 I_\\text{enc}\n",
    "= B \\int_{\\phi=0}^{2\\pi} l d\\phi\n",
    "= B 2\\pi l\n",
    "= \\mu_0 I\n",
    "\\longrightarrow\n",
    "B = \\frac{\\mu_0 I}{2\\pi l}\n",
    "$$"
   ]
  },
  {
   "cell_type": "markdown",
   "metadata": {},
   "source": [
    "$$\n",
    "B_1(\\mathbf r_2) \\approx \\frac{\\mu_0 I}{2\\pi l}\n",
    "\\quad \\text{for} \\; l \\ll R\n",
    "$$"
   ]
  },
  {
   "cell_type": "markdown",
   "metadata": {},
   "source": [
    "What's the direction of $\\mathbf B_1(\\mathbf r_2)$? Using the fact that $I_1$ goes counterclockwise in the xy-plane, we apply the right hand rule to determine that the direction of $\\mathbf B_1(\\mathbf r_2)$ points radially outward from the z-axis. So we can use the unit vector $\\hat s$ (from cylindrical coordates) to represent this direction."
   ]
  },
  {
   "cell_type": "markdown",
   "metadata": {},
   "source": [
    "$$\n",
    "\\mathbf B_1(\\mathbf r_2) \\approx \\frac{\\mu_0 I}{2\\pi l} \\hat s\n",
    "\\quad \\text{for} \\; l \\ll R\n",
    "$$"
   ]
  },
  {
   "cell_type": "markdown",
   "metadata": {},
   "source": [
    "Now we can calculate the magnetic force on loop 2:"
   ]
  },
  {
   "cell_type": "markdown",
   "metadata": {},
   "source": [
    "$$\n",
    "\\mathbf F_\\text{mag}\n",
    "= I_2 \\int (d \\mathbf l \\times \\mathbf B_1(\\mathbf r_2))\n",
    "= -I \\int_{\\phi=0}^{2\\pi} \\Biggl(\n",
    "    d \\mathbf l_\\phi \\times \\Bigl(\\frac{\\mu_0 I}{2\\pi l} \\hat s\\Bigr)\n",
    "\\Biggr)\n",
    "$$"
   ]
  },
  {
   "cell_type": "markdown",
   "metadata": {},
   "source": [
    "$$\n",
    "= -\\frac{\\mu_0 I^2}{2 \\pi l} \\int_{\\phi=0}^{2\\pi} (d \\mathbf l_\\phi \\times \\hat s)\n",
    "= -\\frac{\\mu_0 I^2}{2 \\pi l} \\int_{\\phi=0}^{2\\pi} \\Bigl((R d\\phi \\hat \\phi) \\times \\hat s \\Bigr)\n",
    "$$"
   ]
  },
  {
   "cell_type": "markdown",
   "metadata": {},
   "source": [
    "Here, $\\hat \\phi$ is a unit vector that points in the direction along the circle we're integrating over."
   ]
  },
  {
   "cell_type": "markdown",
   "metadata": {},
   "source": [
    "$$\n",
    "= -\\frac{\\mu_0 I^2 R}{2 \\pi l} \\int_{\\phi=0}^{2\\pi}\n",
    "(\\hat \\phi \\times \\hat s ) d\\phi\n",
    "= -\\frac{\\mu_0 I^2 R}{2 \\pi l} \\int_{\\phi=0}^{2\\pi}\n",
    "(- \\hat z) d\\phi\n",
    "$$"
   ]
  },
  {
   "cell_type": "markdown",
   "metadata": {},
   "source": [
    "$$\n",
    "= \\frac{\\mu_0 I^2 R}{2 \\pi l} \\hat z \\int_{\\phi=0}^{2\\pi} d\\phi\n",
    "= \\frac{\\mu_0 I^2 R}{l} \\hat z\n",
    "$$"
   ]
  },
  {
   "cell_type": "markdown",
   "metadata": {},
   "source": [
    "$$\n",
    "\\mathbf F_\\text{mag} \\approx \\frac{\\mu_0 I^2 R}{l} \\hat z\n",
    "\\quad \\text{for} \\; l \\ll R\n",
    "$$"
   ]
  },
  {
   "cell_type": "markdown",
   "metadata": {},
   "source": [
    "In order to counteract gravity:"
   ]
  },
  {
   "cell_type": "markdown",
   "metadata": {},
   "source": [
    "$$\n",
    "\\mathbf F_\\text{mag} = -\\mathbf F_\\text{g} = mg \\hat z\n",
    "$$"
   ]
  },
  {
   "cell_type": "markdown",
   "metadata": {},
   "source": [
    "$$\n",
    "\\frac{\\mu_0 I^2 R}{l} = mg\n",
    "\\longrightarrow\n",
    "I = \\sqrt{\\frac{mgl}{\\mu_0 R}}\n",
    "$$"
   ]
  },
  {
   "cell_type": "markdown",
   "metadata": {},
   "source": [
    "Let's plug in values for everything and calculate the current."
   ]
  },
  {
   "cell_type": "code",
   "execution_count": 1,
   "metadata": {},
   "outputs": [
    {
     "name": "stdout",
     "output_type": "stream",
     "text": [
      "I = 514.9292526076739 A\n"
     ]
    }
   ],
   "source": [
    "import numpy as np\n",
    "\n",
    "m = 0.017   # kg\n",
    "g = 9.8     # m/s^2\n",
    "l = 0.021   # m\n",
    "R = 0.0105  # m\n",
    "mu_0 = 4 * np.pi * 10**(-7)  # N/A^2\n",
    "\n",
    "I = ((m * g * l) / (mu_0 * R))**0.5\n",
    "print(f'I = {I} A')"
   ]
  },
  {
   "cell_type": "markdown",
   "metadata": {},
   "source": [
    "Unless I made a mistake somewhere, to replace the bottom magnet with a current loop and still be able to levitate the top magnet to a similar height, we need a current on the order of at least 500 A. Of course, we don't literally need to pass 500 A through a wire. Remember from Ampere's law that the strength of the magnetic field depends on the total current enclosed by the line integral around the loop current.\n",
    "\n",
    "So we can achieve approximately the same result with a current of $I/n$ if we make a coil with $n$ turns. For instance, it should be possible to use a current of 1 A and a 500-turn coil. However, we'd have to be careful to use a thin enough wire so that all of those turns will fit in a small enough space, and we'd need to make sure that the resistance of such a long and thin wire is not so high that the coil generates enough heat to destroy itself."
   ]
  },
  {
   "cell_type": "markdown",
   "metadata": {},
   "source": [
    "#### Dipole moment approximation for $R \\ll l$\n",
    "\n",
    "The previous approximation only gave a minimum bound for the amount of current we need, and it's also possible that I made a mistake somewhere. So before I invest time into making a coil, I want to also get an upper bound estimate. For this, we assume $R \\ll l$ and approximate the interaction between the two permanent magnets with two dipole moments. We'll need to know a little bit more theory.\n",
    "\n",
    "The magnetic dipole of a current loop is:"
   ]
  },
  {
   "cell_type": "markdown",
   "metadata": {},
   "source": [
    "$$\n",
    "\\mathbf m = I \\int d\\mathbf a\n",
    "$$"
   ]
  },
  {
   "cell_type": "markdown",
   "metadata": {},
   "source": [
    "This is a surface integral, and we can use any open surface whose perimeter is along the current loop. $d\\mathbf a$ is a vector that represents a small piece of the area, and it points in a direction perpendicular to the surface. Of course, there are two possible directions, so we use the right hand rule--with your thumb pointing in the direction of the current along the perimeter of the surface, whichever the fingers curl \"through\" the surface is the direction of $d\\mathbf a$.\n",
    "\n",
    "So in our case, the simplest choice for this surface is just a flat circle inside the current loop. For the bottom loop, $d\\mathbf a$ points along $\\hat z$ since $I_1$ is counterclockwise in the xy-plane."
   ]
  },
  {
   "cell_type": "markdown",
   "metadata": {},
   "source": [
    "$$\n",
    "\\mathbf m_1 = I \\hat z \\int da = \\pi R^2 I \\hat z\n",
    "$$"
   ]
  },
  {
   "cell_type": "markdown",
   "metadata": {},
   "source": [
    "A dipole moment can be thought of like a point particle. It exists at a particular position--in this case, at the center of current loop 1.\n",
    "\n",
    "In order to calculate the force that $\\mathbf m_1$ exerts on loop 2, we have to find the potential of the magnetic field that $\\mathbf m_1$ generates, and then find the magnetic field that the potential gives."
   ]
  },
  {
   "cell_type": "markdown",
   "metadata": {},
   "source": [
    "$$\n",
    "\\mathbf A_\\text{dip}(\\mathbf r)\n",
    "= \\frac{\\mu_0}{4\\pi} \\frac{\\mathbf m \\times \\hat r}{r^2}\n",
    "$$"
   ]
  },
  {
   "cell_type": "markdown",
   "metadata": {},
   "source": [
    "$\\mathbf A$ is the magnetic potential, and it's a vector field like $\\mathbf B$. $\\mathbf r$ is a position, with the dipole at the origin.\n",
    "\n",
    "From the magnetic potential, we can calculate the magnetic field:"
   ]
  },
  {
   "cell_type": "markdown",
   "metadata": {},
   "source": [
    "$$\n",
    "\\mathbf B = \\nabla \\times \\mathbf A\n",
    "$$"
   ]
  },
  {
   "cell_type": "markdown",
   "metadata": {},
   "source": [
    "That's all the additional theory we needed. Once we find the magnetic field generated by the dipole, we can just apply the Lorentz force law."
   ]
  },
  {
   "cell_type": "markdown",
   "metadata": {},
   "source": [
    "$$\n",
    "\\mathbf A_1(\\mathbf r)\n",
    "= \\frac{\\mu_0}{4\\pi} \\frac{\\mathbf m_1 \\times \\hat r}{r^2}\n",
    "= \\frac{\\mu_0 m_1}{4\\pi} \\frac{\\sin\\theta}{r^2} \\hat \\phi\n",
    "$$"
   ]
  },
  {
   "cell_type": "markdown",
   "metadata": {},
   "source": [
    "$\\hat \\phi$ is a unit vector that points in the clockwise direction at each point within loop 2. $\\theta$ is the angle between $\\mathbf m_1$ and $\\mathbf r$. In other words, these are spherical coordinates.\n",
    "\n",
    "Now we can apply the curl formula for spherical coordinates to find the magnetic field. (I'm not going to write the whole formula here. We don't need the whole thing since $\\mathbf A_1$ only has a nonzero component in the $\\hat \\phi$ direction.)"
   ]
  },
  {
   "cell_type": "markdown",
   "metadata": {},
   "source": [
    "$$\n",
    "\\mathbf B_1(\\mathbf r) = \\nabla \\times \\mathbf A_1\n",
    "= \\frac{1}{r \\sin\\theta}\n",
    "  \\frac{\\partial}{\\partial \\theta}(\\sin\\theta A_1) \n",
    "\\hat r\n",
    "- \\frac{1}{r} \\frac{\\partial}{\\partial r}(r A_1) \\hat \\theta\n",
    "$$"
   ]
  },
  {
   "cell_type": "markdown",
   "metadata": {},
   "source": [
    "$$\n",
    "= \\frac{\\mu_0 m_1}{4\\pi} \\Biggl(\n",
    "\\frac{1}{r \\sin\\theta}\n",
    "\\frac{\\partial}{\\partial \\theta}\\Bigl(\n",
    "    \\frac{\\sin^2 \\theta}{r^2}\n",
    "\\Bigr) \\hat r\n",
    "- \\frac{1}{r}\n",
    "\\frac{\\partial}{\\partial r}\\Bigl(\n",
    "    \\frac{\\sin\\theta}{r}\n",
    "\\Bigr) \\hat \\theta\n",
    "\\Biggr)\n",
    "$$"
   ]
  },
  {
   "cell_type": "markdown",
   "metadata": {},
   "source": [
    "$$\n",
    "= \\frac{\\mu_0 m_1}{4\\pi} \\Biggl(\n",
    "\\frac{1}{r \\sin\\theta}\n",
    "\\frac{2 \\sin\\theta \\cos\\theta}{r^2}\n",
    "\\hat r\n",
    "+ \\frac{1}{r}\n",
    "\\frac{\\sin\\theta}{r^2}\n",
    "\\hat \\theta\n",
    "\\Biggr)\n",
    "$$"
   ]
  },
  {
   "cell_type": "markdown",
   "metadata": {},
   "source": [
    "$$\n",
    "= \\frac{\\mu_0 m_1}{4\\pi r^3} (\n",
    "2 \\cos\\theta \\hat r\n",
    "+ \\sin\\theta \\hat \\theta\n",
    ")\n",
    "$$"
   ]
  },
  {
   "cell_type": "markdown",
   "metadata": {},
   "source": [
    "(Now that I've derived the field of a dipole, I see that it was already derived in my textbook, so I could have just pasted that here. Oh well!)"
   ]
  },
  {
   "cell_type": "markdown",
   "metadata": {},
   "source": [
    "We can apply the Lorentz force law:"
   ]
  },
  {
   "cell_type": "markdown",
   "metadata": {},
   "source": [
    "$$\n",
    "\\mathbf F_2\n",
    "= I_2 \\int (d\\mathbf l_\\phi \\times \\mathbf B_1)\n",
    "= -I \\int \\Bigl((R d\\phi \\hat \\phi) \\times \\mathbf B_1\\Bigr)\n",
    "$$"
   ]
  },
  {
   "cell_type": "markdown",
   "metadata": {},
   "source": [
    "$$\n",
    "= -\\frac{\\mu_0 m_1 I R}{4\\pi r^3}\n",
    "\\int \\Bigl(\\hat \\phi \\times (2 \\cos\\theta \\hat r + \\sin\\theta \\hat\\theta)\\Bigr) d\\phi\n",
    "$$"
   ]
  },
  {
   "cell_type": "markdown",
   "metadata": {},
   "source": [
    "Let's focus on the cross product."
   ]
  },
  {
   "cell_type": "markdown",
   "metadata": {},
   "source": [
    "$$\n",
    "\\hat \\phi \\times (2 \\cos\\theta \\hat r + \\sin\\theta \\hat\\theta)\n",
    "= \\begin{vmatrix}\n",
    "\\hat r & \\hat \\theta & \\hat \\phi \\\\\n",
    "0 & 0 & 1 \\\\\n",
    "2\\cos\\theta & \\sin\\theta & 0 \\\\\n",
    "\\end{vmatrix}\n",
    "= -\\sin\\theta \\hat r + 2\\cos\\theta \\hat \\theta\n",
    "$$"
   ]
  },
  {
   "cell_type": "markdown",
   "metadata": {},
   "source": [
    "$$\n",
    "\\mathbf F_2 = -\\frac{\\mu_0 m_1 I R}{4\\pi r^3}\n",
    "\\int_{\\phi=0}^{2\\pi}\n",
    "\\Bigl(-\\sin\\theta \\hat r + 2 \\cos\\theta \\hat \\theta\n",
    "\\Bigr) d\\phi\n",
    "$$"
   ]
  },
  {
   "cell_type": "markdown",
   "metadata": {},
   "source": [
    "My mind is having trouble with the spherical coordinates, so I think I need to replace the spherical unit vectors in the integrand with rectangular unit vectors."
   ]
  },
  {
   "cell_type": "markdown",
   "metadata": {},
   "source": [
    "$$\n",
    "-\\sin\\theta \\hat r + 2 \\cos\\theta \\hat \\theta\n",
    "\\\\= \n",
    "-\\sin\\theta \\Bigl(\n",
    "    \\sin\\theta \\cos\\phi \\hat x\n",
    "  + \\sin\\theta \\sin\\phi \\hat y\n",
    "  + \\cos\\theta \\hat z\n",
    "\\Bigr)\n",
    "\\\\+ 2 \\cos\\theta \\Bigl(\n",
    "    \\cos\\theta \\cos\\phi \\hat x\n",
    "  + \\cos\\theta \\sin\\phi \\hat y\n",
    "  - \\sin\\theta \\hat z\n",
    "\\Bigr)\n",
    "$$"
   ]
  },
  {
   "cell_type": "markdown",
   "metadata": {},
   "source": [
    "Ok now, here's a nice simplification: When we integrate this integrand for $\\phi: 0 \\rightarrow 2\\pi$, the $\\hat x$ and $\\hat y$ terms will cancel due to symmetry (integrating $\\sin\\phi$ or $\\cos\\phi$ over this range gives 0). So we're left with just the $\\hat z$ term.\n"
   ]
  },
  {
   "cell_type": "markdown",
   "metadata": {},
   "source": [
    "$$\n",
    "-\\sin\\theta \\hat r + 2 \\cos\\theta \\hat \\theta\n",
    "\\longrightarrow\n",
    "-\\sin\\theta (\n",
    "   \\cos\\theta \\hat z\n",
    ")\n",
    "+ 2 \\cos\\theta (\n",
    "  - \\sin\\theta \\hat z\n",
    ")\n",
    "$$"
   ]
  },
  {
   "cell_type": "markdown",
   "metadata": {},
   "source": [
    "$$\n",
    "= -3 \\sin\\theta \\cos\\theta \\hat z\n",
    "$$"
   ]
  },
  {
   "cell_type": "markdown",
   "metadata": {},
   "source": [
    "$$\n",
    "\\mathbf F_2 = -\\frac{\\mu_0 m_1 I R}{4\\pi r^3}\n",
    "\\int_{\\phi=0}^{2\\pi}\n",
    "\\Bigl(\n",
    "    -3 \\sin\\theta \\cos\\theta \\hat z\n",
    "\\Bigr) d\\phi\n",
    "$$"
   ]
  },
  {
   "cell_type": "markdown",
   "metadata": {},
   "source": [
    "$$\n",
    "= \\frac{3 \\mu_0 m_1 I R}{4\\pi r^3}\n",
    "\\sin\\theta \\cos\\theta \\hat z\n",
    "\\int_{\\phi=0}^{2\\pi} d\\phi\n",
    "= \\frac{3 \\mu_0 m_1 I R}{2 r^3}\n",
    "\\sin\\theta \\cos\\theta \\hat z\n",
    "$$"
   ]
  },
  {
   "cell_type": "markdown",
   "metadata": {},
   "source": [
    "Now we can replace the $\\theta$ and $r$ terms like so:"
   ]
  },
  {
   "cell_type": "markdown",
   "metadata": {},
   "source": [
    "$$\n",
    "r = \\sqrt{l^2 + R^2}\n",
    "$$\n",
    "$$\n",
    "\\sin\\theta = \\frac{R}{\\sqrt{l^2 + R^2}}\n",
    "$$\n",
    "$$\n",
    "\\cos\\theta = \\frac{l}{\\sqrt{l^2 + R^2}}\n",
    "$$"
   ]
  },
  {
   "cell_type": "markdown",
   "metadata": {},
   "source": [
    "$$\n",
    "\\mathbf F_2\n",
    "= \\frac{3 \\mu_0 m_1 I R}{2 (l^2 + R^2)^{3/2}}\n",
    "\\frac{R}{\\sqrt{l^2 + R^2}}\n",
    "\\frac{l}{\\sqrt{l^2 + R^2}}\n",
    "\\hat z\n",
    "$$"
   ]
  },
  {
   "cell_type": "markdown",
   "metadata": {},
   "source": [
    "$$\n",
    "= \\frac{3 \\mu_0 m_1 (I R) R l}{2 (l^2 + R^2)^{5/2}}\n",
    "\\hat z\n",
    "$$"
   ]
  },
  {
   "cell_type": "markdown",
   "metadata": {},
   "source": [
    "Now we can plug in the value of $m_1$ that we found earlier."
   ]
  },
  {
   "cell_type": "markdown",
   "metadata": {},
   "source": [
    "$$\n",
    "m_1 = \\pi R^2 I\n",
    "$$"
   ]
  },
  {
   "cell_type": "markdown",
   "metadata": {},
   "source": [
    "$$\n",
    "\\mathbf F_2\n",
    "= \\frac{3 \\mu_0 (\\pi R^2 I) (I R) R l}{2 (l^2 + R^2)^{5/2}} \\hat z\n",
    "= \\frac{3 \\mu_0 \\pi I^2 R^4 l}{2 (l^2 + R^2)^{5/2}} \\hat z\n",
    "$$"
   ]
  },
  {
   "cell_type": "markdown",
   "metadata": {},
   "source": [
    "And finally we've found the force on loop 2 if we approximate loop 1 with a dipole. One interesting observation is that if $l \\gg R$, then $l^2 + R^2 \\approx l^2$, and:\n"
   ]
  },
  {
   "cell_type": "markdown",
   "metadata": {},
   "source": [
    "$$\n",
    "\\mathbf F_2\n",
    "\\approx \\frac{3 \\mu_0 \\pi I^2 R^4 l}{2 (l^2)^{5/2}} \\hat z\n",
    "= \\frac{3 \\mu_0 \\pi I^2 R^4}{2 l^4} \\hat z\n",
    "$$"
   ]
  },
  {
   "cell_type": "markdown",
   "metadata": {},
   "source": [
    "$$\n",
    "F_2 \\propto \\frac{1}{l^4}\n",
    "\\longrightarrow\n",
    "B_1 \\propto \\frac{1}{l^4}\n",
    "\\longrightarrow\n",
    "I_1 \\propto \\frac{1}{l^4}\n",
    "$$"
   ]
  },
  {
   "cell_type": "markdown",
   "metadata": {},
   "source": [
    "So in this range, if we want to double the equilibrium height of loop 2, we would have to increase loop 1's current by a factor of $2^4 = 16$! This is going to put a severe limit on the levitation height we can achieve.\n",
    "\n",
    "But let's get back to finding the loop currents. We can set the force on loop 2 to the opposite of the force of gravity and then solve for the current."
   ]
  },
  {
   "cell_type": "markdown",
   "metadata": {},
   "source": [
    "$$\n",
    "\\mathbf F_2 = -\\mathbf F_g\n",
    "= \\frac{3 \\mu_0 \\pi I^2 R^4 l}{2 (l^2 + R^2)^{5/2}} \\hat z\n",
    "= m g \\hat z\n",
    "$$"
   ]
  },
  {
   "cell_type": "markdown",
   "metadata": {},
   "source": [
    "$$\n",
    "\\longrightarrow\n",
    "I = \\sqrt{\\frac{2 m g (l^2 + R^2)^{5/2}}{3 \\mu_0 \\pi R^4 l}}\n",
    "$$"
   ]
  },
  {
   "cell_type": "markdown",
   "metadata": {},
   "source": [
    "And just like we did with the previous lower bound approximation for the current required to replace the bottom magnet with a current loop, we can now plug in our real world measurements to get an upper bound approximation."
   ]
  },
  {
   "cell_type": "code",
   "execution_count": 2,
   "metadata": {},
   "outputs": [
    {
     "name": "stdout",
     "output_type": "stream",
     "text": [
      "I = 886.7669698970875 A\n"
     ]
    }
   ],
   "source": [
    "import numpy as np\n",
    "\n",
    "m = 0.017   # kg\n",
    "g = 9.8     # m/s^2\n",
    "l = 0.021   # m\n",
    "R = 0.0105  # m\n",
    "mu_0 = 4 * np.pi * 10**(-7)  # N/A^2\n",
    "\n",
    "I = (\n",
    "    (2 * m * g * (l**2 + R**2)**(5/2))\n",
    "    / (3 * mu_0 * np.pi * R**4 * l)\n",
    ")**0.5\n",
    "\n",
    "print(f'I = {I} A')"
   ]
  },
  {
   "cell_type": "markdown",
   "metadata": {},
   "source": [
    "To summarize, it looks like we'll need a current loop that provides a total current of somewhere between 500 and 900 A in order to make an electromagnet that generates a field similar to one of my permanent ring magnets. That certainly is achievable with coil that has enough turns."
   ]
  },
  {
   "cell_type": "markdown",
   "metadata": {},
   "source": [
    "The dipole moment of one of my ring magnets is evidently:"
   ]
  },
  {
   "cell_type": "markdown",
   "metadata": {},
   "source": [
    "$$\n",
    "m = \\pi R^2 I\n",
    "$$"
   ]
  },
  {
   "cell_type": "code",
   "execution_count": 15,
   "metadata": {},
   "outputs": [
    {
     "name": "stdout",
     "output_type": "stream",
     "text": [
      "moment = 0.3071411309377436 A-m^2\n"
     ]
    }
   ],
   "source": [
    "moment = np.pi * R**2 * I\n",
    "print(f'moment = {moment} A-m^2')"
   ]
  },
  {
   "cell_type": "markdown",
   "metadata": {},
   "source": [
    "#### Basic control circuit"
   ]
  },
  {
   "cell_type": "markdown",
   "metadata": {},
   "source": [
    "If our electromagnet coil has $n$ turns, to achieve the upper bound total loop current of $I_l = 900 A$, we'll need to drive the wire with a current of:"
   ]
  },
  {
   "cell_type": "markdown",
   "metadata": {},
   "source": [
    "$$\n",
    "I = \\frac{I_l}{n}\n",
    "$$"
   ]
  },
  {
   "cell_type": "markdown",
   "metadata": {},
   "source": [
    "We'll need to add a resistor to the circuit to get the correct amount of current given whatever voltage supply $V$ we use. Let's say that the total resistance of the electromagnet plus the resistor is $R$."
   ]
  },
  {
   "cell_type": "markdown",
   "metadata": {},
   "source": [
    "$$\n",
    "V = IR\n",
    "\\longrightarrow\n",
    "R = \\frac{V}{I}\n",
    "= \\frac{V n}{I_l}\n",
    "$$"
   ]
  },
  {
   "cell_type": "markdown",
   "metadata": {},
   "source": [
    "The power consumption is:"
   ]
  },
  {
   "cell_type": "markdown",
   "metadata": {},
   "source": [
    "$$\n",
    "P = IV\n",
    "= \\frac{I_l V}{n}\n",
    "$$"
   ]
  },
  {
   "cell_type": "markdown",
   "metadata": {},
   "source": [
    "Let's say $V = 9 \\text{V}$ and $n=900$."
   ]
  },
  {
   "cell_type": "markdown",
   "metadata": {},
   "source": [
    "$$\n",
    "I(n=900) = 1 A\n",
    "$$\n",
    "$$\n",
    "R(V=9, n=900) = 9 \\Omega\n",
    "$$\n",
    "$$\n",
    "P(V=9, n=900) = 9 W\n",
    "$$"
   ]
  },
  {
   "cell_type": "markdown",
   "metadata": {},
   "source": [
    "Out of curiosity, I'd like to see if it's possible to power it with a battery. A rechargeable Energizer 9V battery has a capacity of around $Q = 0.175 $ Ah and is supposedly able to provide 9 A of current.\n",
    "\n",
    "It would be cool if the power consumption could be low enough that we can leave the thing running for a full $t = 24$ hours."
   ]
  },
  {
   "cell_type": "markdown",
   "metadata": {},
   "source": [
    "$$\n",
    "I = \\frac{Q}{t} = \\frac{0.175}{24} = 0.00729 A\n",
    "$$"
   ]
  },
  {
   "cell_type": "markdown",
   "metadata": {},
   "source": [
    "$$\n",
    "n = \\frac{I_l}{I}\n",
    "= \\frac{900}{0.00729}\n",
    "= 123,428\n",
    "$$"
   ]
  },
  {
   "cell_type": "markdown",
   "metadata": {},
   "source": [
    "That's probably way too many turns! I bought a 256 meter roll of 40 AWG copper wire for \\$16, which weighs about 4 oz. With that much wire, for a coil of radius $R = 0.0105$ m, I can reach a maximum turn count of roughly:"
   ]
  },
  {
   "cell_type": "markdown",
   "metadata": {},
   "source": [
    "$$\n",
    "n_\\text{max} = \\frac{l}{2 \\pi r} = 3882\n",
    "$$"
   ]
  },
  {
   "cell_type": "markdown",
   "metadata": {},
   "source": [
    "So to make this battery-powered electromagnet that can last 24 hours, I would need around 31 rolls of this wire, which would cost about \\$500, and would weigh 7 lbs!\n",
    "\n",
    "All to just lift a tiny 17 g permanent magnet."
   ]
  },
  {
   "cell_type": "markdown",
   "metadata": {},
   "source": []
  }
 ],
 "metadata": {
  "kernelspec": {
   "display_name": "main",
   "language": "python",
   "name": "python3"
  },
  "language_info": {
   "codemirror_mode": {
    "name": "ipython",
    "version": 3
   },
   "file_extension": ".py",
   "mimetype": "text/x-python",
   "name": "python",
   "nbconvert_exporter": "python",
   "pygments_lexer": "ipython3",
   "version": "3.11.3"
  }
 },
 "nbformat": 4,
 "nbformat_minor": 2
}
