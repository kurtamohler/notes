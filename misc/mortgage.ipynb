{
 "cells": [
  {
   "cell_type": "markdown",
   "id": "260481b3",
   "metadata": {},
   "source": [
    "# Mortgage costs\n",
    "\n",
    "When buying a house or condo, most people only pay some fraction of the price at first, called a down payment, and a bank loans the rest of the money. This kind of loan is called a mortgage. The buyer has to pay back this loan plus interest over some amount of time.\n",
    "\n",
    "Starting with the full sale price of the house $s$, the down payment $d$ is subtracted from it to give the amount that the buyer borrows from the bank, called the principal $p_0$."
   ]
  },
  {
   "cell_type": "markdown",
   "id": "ee002c1d",
   "metadata": {},
   "source": [
    "$$\n",
    "p_0 = s - d\n",
    "$$"
   ]
  },
  {
   "cell_type": "markdown",
   "id": "4cb66dca",
   "metadata": {},
   "source": [
    "Each month the buyer pays back some amount of money.\n",
    "\n",
    "However, the bank charges interest each month. The amount of interest is determined by the agreed-upon interest rate $r$ and the remaining principal $p_{n}$, where $n$ is the number of months since the beginning of the term. The interest rate is given as an \"annual percentage rate\", APR. Historically, this is somewhere between roughly 2% and 8%, meaning that each year the buyer pays interest equal to around 2-8% of the remaining principal.\n",
    "\n",
    "But the interest is usually compounded monthly, not annually, so since there are 12 months in a year, the interest charged for a particular month is:"
   ]
  },
  {
   "cell_type": "markdown",
   "id": "c4718103",
   "metadata": {},
   "source": [
    "$$\n",
    "i_n = \\frac{r}{12} p_n\n",
    "$$"
   ]
  },
  {
   "cell_type": "markdown",
   "id": "d1bc020f",
   "metadata": {},
   "source": [
    "If the buyer pays $m_n$, then the remaining principal for the next month is:"
   ]
  },
  {
   "cell_type": "markdown",
   "id": "4c7b5722",
   "metadata": {},
   "source": [
    "$$\n",
    "p_{n+1}\n",
    "= p_n + i_n - m_n\n",
    "= \\Bigl(1 + \\frac{r}{12}\\Bigr)p_n - m_n\n",
    "$$"
   ]
  },
  {
   "cell_type": "markdown",
   "id": "322e07f9",
   "metadata": {},
   "source": [
    "If $m_n < i_n$, then the principal would increase and thus the interest $i_{n+1}$ for the next month would increase. So each month, the buyer should always aim to pay more than the monthly amount of interest, $m_n > i_n$.\n",
    "\n",
    "Let's assume that the buyer always pays the same amount every single month during the loan term, $m_n = m$.\n",
    "\n",
    "If we know $p_{n-1}$ (the remaining principal from the previous month), $r$, and $m$, the the remaining principal $p_n$ for the next month is:"
   ]
  },
  {
   "cell_type": "markdown",
   "id": "5c83d4d9",
   "metadata": {},
   "source": [
    "$$\n",
    "p_n\n",
    "= a p_{n-1} - m\n",
    "\\quad\\quad\n",
    "a = \\Bigl(1 + \\frac{r}{12}\\Bigr)\n",
    "$$"
   ]
  },
  {
   "cell_type": "markdown",
   "id": "8d75810d",
   "metadata": {},
   "source": [
    "Let's write this out for the first few months, given that we know $p_0$:"
   ]
  },
  {
   "cell_type": "markdown",
   "id": "255fd799",
   "metadata": {},
   "source": [
    "$$\n",
    "p_1 = a p_0 - m\n",
    "$$"
   ]
  },
  {
   "cell_type": "markdown",
   "id": "3e7f9545",
   "metadata": {},
   "source": [
    "$$\n",
    "p_2\n",
    "= a p_1 - m\n",
    "= a (a p_0 - m) - m\n",
    "= a^2 p_0 - m (1 + a)\n",
    "$$"
   ]
  },
  {
   "cell_type": "markdown",
   "id": "43330da6",
   "metadata": {},
   "source": [
    "$$\n",
    "p_3\n",
    "= a^2 p_1 - m (1 + a)\n",
    "= a^2 (a p_0 - m) - m (1 + a)\n",
    "= a^3 p_0 - m (1 + a + a^2)\n",
    "$$"
   ]
  },
  {
   "cell_type": "markdown",
   "id": "8a1987c0",
   "metadata": {},
   "source": [
    "We can see a clear pattern forming, and it's clear that the formula for $p_n$ given $p_0$ is:"
   ]
  },
  {
   "cell_type": "markdown",
   "id": "c72c7e62",
   "metadata": {},
   "source": [
    "$$\n",
    "p_n = p_0 a^n - m \\sum_{j=0}^{n-1} a^j\n",
    "$$"
   ]
  },
  {
   "cell_type": "markdown",
   "id": "9b78242b",
   "metadata": {},
   "source": [
    "That summation is the geometric series, and it is well known that it can be rewritten as:"
   ]
  },
  {
   "cell_type": "markdown",
   "id": "b432132f",
   "metadata": {},
   "source": [
    "$$\n",
    "\\sum_{j=0}^{n-1} a^j\n",
    "= \\frac{a^n - 1}{a - 1}\n",
    "$$"
   ]
  },
  {
   "cell_type": "markdown",
   "id": "dfcc8b7f",
   "metadata": {},
   "source": [
    "So plugging that in to the formula for $p_n$, we get:"
   ]
  },
  {
   "cell_type": "markdown",
   "id": "9c0f7a47",
   "metadata": {},
   "source": [
    "$$\n",
    "p_n = p_0 a^n - m \\frac{a^n - 1}{a-1}\n",
    "\\quad\\quad\n",
    "a = 1 + \\frac{r}{12}\n",
    "$$"
   ]
  },
  {
   "cell_type": "markdown",
   "id": "7615bbeb",
   "metadata": {},
   "source": [
    "When the buyer picks a mortgage, they usually have a few options that have a different rate $r$ and loan term $t$, also called ammortization period. The loan term is just the number of months the buyer has to pay off the loan completely, so $p_t = 0$. Let's see what their monthly payment would have to be in order to accomplish that."
   ]
  },
  {
   "cell_type": "markdown",
   "id": "629727d8",
   "metadata": {},
   "source": [
    "$$\n",
    "p_t = 0\n",
    "= p_0 a^t - m \\frac{a^t - 1}{a-1}\n",
    "\\quad\\rightarrow\\quad\n",
    "m\n",
    "= p_0 a^t \\frac{a - 1}{a^t - 1}\n",
    "= p_0 \\frac{a - 1}{1 - a^{-t}}\n",
    "$$"
   ]
  },
  {
   "cell_type": "markdown",
   "id": "9950da66",
   "metadata": {},
   "source": [
    "### Example 1\n",
    "\n",
    "For example, with a principal of \\$557,923, rate of 5.4%, and term of 15 years:"
   ]
  },
  {
   "cell_type": "code",
   "execution_count": 1,
   "id": "7b33eae7",
   "metadata": {},
   "outputs": [
    {
     "data": {
      "text/plain": [
       "4529.144201068476"
      ]
     },
     "execution_count": 1,
     "metadata": {},
     "output_type": "execute_result"
    }
   ],
   "source": [
    "def calc_monthly_mortgage(principal, rate_ratio, term_months):\n",
    "    a = 1 + rate_ratio / 12\n",
    "    return principal * (a - 1) / (1 - a**(-term_months))\n",
    "\n",
    "calc_monthly_mortgage(557_923, 0.054, 15 * 12)"
   ]
  },
  {
   "cell_type": "markdown",
   "id": "c95e90e7",
   "metadata": {},
   "source": [
    "The buyer would have to pay \\$4,529.15 each month to pay off the loan over 15 years."
   ]
  },
  {
   "cell_type": "markdown",
   "id": "82670345",
   "metadata": {},
   "source": [
    "### Example 2"
   ]
  },
  {
   "cell_type": "code",
   "execution_count": 2,
   "id": "78073347",
   "metadata": {},
   "outputs": [
    {
     "name": "stdout",
     "output_type": "stream",
     "text": [
      "10-year term, 4.7% rate, 25% down: $5884.04 monthly\n",
      "10-year term, 6.0% rate, 25% down: $6244.90 monthly\n",
      "10-year term, 4.7% rate, 24% down: $5962.50 monthly\n",
      "10-year term, 6.0% rate, 24% down: $6328.17 monthly\n",
      "10-year term, 4.7% rate, 23% down: $6040.95 monthly\n",
      "10-year term, 6.0% rate, 23% down: $6411.43 monthly\n",
      "10-year term, 4.7% rate, 22% down: $6119.40 monthly\n",
      "10-year term, 6.0% rate, 22% down: $6494.70 monthly\n",
      "10-year term, 4.7% rate, 21% down: $6197.86 monthly\n",
      "10-year term, 6.0% rate, 21% down: $6577.96 monthly\n",
      "10-year term, 4.7% rate, 20% down: $6276.31 monthly\n",
      "10-year term, 6.0% rate, 20% down: $6661.23 monthly\n",
      "15-year term, 4.7% rate, 25% down: $4360.81 monthly\n",
      "15-year term, 6.0% rate, 25% down: $4746.69 monthly\n",
      "15-year term, 4.7% rate, 24% down: $4418.95 monthly\n",
      "15-year term, 6.0% rate, 24% down: $4809.98 monthly\n",
      "15-year term, 4.7% rate, 23% down: $4477.09 monthly\n",
      "15-year term, 6.0% rate, 23% down: $4873.27 monthly\n",
      "15-year term, 4.7% rate, 22% down: $4535.24 monthly\n",
      "15-year term, 6.0% rate, 22% down: $4936.56 monthly\n",
      "15-year term, 4.7% rate, 21% down: $4593.38 monthly\n",
      "15-year term, 6.0% rate, 21% down: $4999.85 monthly\n",
      "15-year term, 4.7% rate, 20% down: $4651.53 monthly\n",
      "15-year term, 6.0% rate, 20% down: $5063.14 monthly\n",
      "20-year term, 4.7% rate, 25% down: $3619.67 monthly\n",
      "20-year term, 6.0% rate, 25% down: $4029.92 monthly\n",
      "20-year term, 4.7% rate, 24% down: $3667.93 monthly\n",
      "20-year term, 6.0% rate, 24% down: $4083.66 monthly\n",
      "20-year term, 4.7% rate, 23% down: $3716.19 monthly\n",
      "20-year term, 6.0% rate, 23% down: $4137.39 monthly\n",
      "20-year term, 4.7% rate, 22% down: $3764.45 monthly\n",
      "20-year term, 6.0% rate, 22% down: $4191.12 monthly\n",
      "20-year term, 4.7% rate, 21% down: $3812.71 monthly\n",
      "20-year term, 6.0% rate, 21% down: $4244.85 monthly\n",
      "20-year term, 4.7% rate, 20% down: $3860.98 monthly\n",
      "20-year term, 6.0% rate, 20% down: $4298.59 monthly\n",
      "25-year term, 4.7% rate, 25% down: $3190.75 monthly\n",
      "25-year term, 6.0% rate, 25% down: $3624.20 monthly\n",
      "25-year term, 4.7% rate, 24% down: $3233.30 monthly\n",
      "25-year term, 6.0% rate, 24% down: $3672.52 monthly\n",
      "25-year term, 4.7% rate, 23% down: $3275.84 monthly\n",
      "25-year term, 6.0% rate, 23% down: $3720.84 monthly\n",
      "25-year term, 4.7% rate, 22% down: $3318.38 monthly\n",
      "25-year term, 6.0% rate, 22% down: $3769.16 monthly\n",
      "25-year term, 4.7% rate, 21% down: $3360.93 monthly\n",
      "25-year term, 6.0% rate, 21% down: $3817.49 monthly\n",
      "25-year term, 4.7% rate, 20% down: $3403.47 monthly\n",
      "25-year term, 6.0% rate, 20% down: $3865.81 monthly\n"
     ]
    }
   ],
   "source": [
    "import itertools\n",
    "\n",
    "rates = [4.7, 6]\n",
    "list_price = 750_000\n",
    "\n",
    "terms = [10, 15, 20, 25]\n",
    "down_percentages = [25, 24, 23, 22, 21, 20]\n",
    "\n",
    "for term, down_percentage, rate in itertools.product(terms, down_percentages, rates):\n",
    "    down = down_percentage / 100 * list_price\n",
    "    principal = list_price - down\n",
    "    monthly_mortgage = calc_monthly_mortgage(principal, rate / 100, term * 12)\n",
    "    print((\n",
    "        f'{term}-year term, '\n",
    "        f'{rate:.1f}% rate, '\n",
    "        f'{down_percentage}% down: '\n",
    "        f'${monthly_mortgage:.2f} monthly'\n",
    "    ))"
   ]
  },
  {
   "cell_type": "code",
   "execution_count": 3,
   "id": "8de5103c",
   "metadata": {},
   "outputs": [
    {
     "name": "stdout",
     "output_type": "stream",
     "text": [
      "2754.1850060970255\n",
      "3025.944448665626\n"
     ]
    }
   ],
   "source": [
    "print(calc_monthly_mortgage(\n",
    "    principal=550_000,\n",
    "    rate_ratio=0.044,\n",
    "    term_months=30*12\n",
    "))\n",
    "\n",
    "print(calc_monthly_mortgage(\n",
    "    principal=550_000,\n",
    "    rate_ratio=0.044,\n",
    "    term_months=25*12\n",
    "))"
   ]
  },
  {
   "cell_type": "code",
   "execution_count": null,
   "id": "7ada7b4d",
   "metadata": {},
   "outputs": [],
   "source": []
  }
 ],
 "metadata": {
  "kernelspec": {
   "display_name": "main",
   "language": "python",
   "name": "python3"
  },
  "language_info": {
   "codemirror_mode": {
    "name": "ipython",
    "version": 3
   },
   "file_extension": ".py",
   "mimetype": "text/x-python",
   "name": "python",
   "nbconvert_exporter": "python",
   "pygments_lexer": "ipython3",
   "version": "3.11.3"
  }
 },
 "nbformat": 4,
 "nbformat_minor": 5
}
