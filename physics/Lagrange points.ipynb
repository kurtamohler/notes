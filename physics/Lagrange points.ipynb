{
 "cells": [
  {
   "cell_type": "markdown",
   "id": "7a20df7b",
   "metadata": {},
   "source": [
    "There are two gravitational bodies of mass $m_1$ and $m_2$ a distance $s$ apart. Their orbits are exactly circular, so they rotate around their common center of mass at a fixed rate $\\omega$ with fixed radii $r_1$ and $r_2$."
   ]
  },
  {
   "cell_type": "markdown",
   "id": "07696f0b",
   "metadata": {},
   "source": [
    "$$\n",
    "s = r_1 + r_2\n",
    "$$"
   ]
  },
  {
   "cell_type": "markdown",
   "id": "760cdcbb",
   "metadata": {},
   "source": [
    "Let's imagine a reference frame rotating at rate $\\omega$ in the plane of the bodies' orbit, with origin located at the center of mass of the two bodies, so that the two bodies are stationary in this frame. The positions of the bodies are:"
   ]
  },
  {
   "cell_type": "markdown",
   "id": "97feef60",
   "metadata": {},
   "source": [
    "$$\n",
    "\\mathbf r_1 = -r_1 \\hat x\n",
    "\\quad\\quad\n",
    "\\mathbf r_2 = r_2 \\hat x\n",
    "$$"
   ]
  },
  {
   "cell_type": "markdown",
   "id": "0afde57a",
   "metadata": {},
   "source": [
    "In order for the center of mass to be at the origin:"
   ]
  },
  {
   "cell_type": "markdown",
   "id": "3cbdf737",
   "metadata": {},
   "source": [
    "$$\n",
    "\\frac{1}{m_1 + m_1} (m_1 \\mathbf r_1 + m_2 \\mathbf r_2) = 0\n",
    "\\rightarrow\\quad\n",
    "-m_1 r_1 + m_2 r_2 = 0\n",
    "$$"
   ]
  },
  {
   "cell_type": "markdown",
   "id": "33b1b368",
   "metadata": {},
   "source": [
    "Now we can find both $r_1$ and $r_2$ in terms of $s$ by substituting $r_2=s - r_1$ and $r_1 = s - r_2$."
   ]
  },
  {
   "cell_type": "markdown",
   "id": "d4e1d3e6",
   "metadata": {},
   "source": [
    "$$\n",
    "-m_1 r_1 + m_2 (s - r_1)\n",
    "= -(m_1 + m_2) r_1 + m_2 s\n",
    "= 0\n",
    "$$"
   ]
  },
  {
   "cell_type": "markdown",
   "id": "d745b164",
   "metadata": {},
   "source": [
    "$$\n",
    "\\rightarrow\\quad\n",
    "r_1 = \\frac{m_2}{m_1 + m_2} s\n",
    "$$"
   ]
  },
  {
   "cell_type": "markdown",
   "id": "cc61b69a",
   "metadata": {},
   "source": [
    "$$\n",
    "-m_1 (s - r_2) + m_2 r_2\n",
    "= (m_1 + m_2) r_2 - m_1 s\n",
    "= 0\n",
    "$$"
   ]
  },
  {
   "cell_type": "markdown",
   "id": "8897ce63",
   "metadata": {},
   "source": [
    "$$\n",
    "\\rightarrow\\quad\n",
    "r_2 = \\frac{m_1}{m_1 + m_2} s\n",
    "$$"
   ]
  },
  {
   "cell_type": "markdown",
   "id": "90a4d812",
   "metadata": {},
   "source": [
    "Each body feels a gravitational force toward the other."
   ]
  },
  {
   "cell_type": "markdown",
   "id": "56790211",
   "metadata": {},
   "source": [
    "$$\n",
    "\\mathbf F_{g1}\n",
    "= \\frac{G m_1 m_2}{s^2} \\hat x\n",
    "\\quad\\quad\n",
    "\\mathbf F_{g2}\n",
    "= -\\frac{G m_1 m_2}{s^2} \\hat x\n",
    "$$"
   ]
  },
  {
   "cell_type": "markdown",
   "id": "3032c40c",
   "metadata": {},
   "source": [
    "Also there is a fictitious centrifugal force pushing the bodies away from the origin, due to the rotation of the coordinate system."
   ]
  },
  {
   "cell_type": "markdown",
   "id": "e5844e38",
   "metadata": {},
   "source": [
    "$$\n",
    "\\mathbf F_{c1} = -\\omega^2 m_1 r_1 \\hat x\n",
    "\\quad\\quad\n",
    "\\mathbf F_{c2} = \\omega^2 m_2 r_2 \\hat x\n",
    "$$"
   ]
  },
  {
   "cell_type": "markdown",
   "id": "c8344099",
   "metadata": {},
   "source": [
    "The gravitational and centrifugal force on each body needs to cancel out."
   ]
  },
  {
   "cell_type": "markdown",
   "id": "da3964e5",
   "metadata": {},
   "source": [
    "$$\n",
    "\\mathbf F_{g1} = \\mathbf F_{c1}\n",
    "\\quad\\rightarrow\\quad\n",
    "\\frac{G m_1 m_2}{s^2}\n",
    "= \\omega^2 m_1 r_1\n",
    "= \\omega^2 \\frac{ m_1 m_2}{m_1 + m_2} s\n",
    "$$"
   ]
  },
  {
   "cell_type": "markdown",
   "id": "503f8fa7",
   "metadata": {},
   "source": [
    "$$\n",
    "\\quad\\rightarrow\\quad\n",
    "\\omega = \\sqrt{\\frac{G (m_1 + m_2)}{s^3}}\n",
    "$$"
   ]
  },
  {
   "cell_type": "markdown",
   "id": "33293073",
   "metadata": {},
   "source": [
    "To check that that is correct, let's plug in the masses and distance for the earth and sun. Of course the earth's orbit around the sun is not exactly circular, but if we plug in the average distance, we should get an orbit period of roughly 1 year."
   ]
  },
  {
   "cell_type": "code",
   "execution_count": 1,
   "id": "74d50d62",
   "metadata": {},
   "outputs": [
    {
     "name": "stdout",
     "output_type": "stream",
     "text": [
      "orbit period: 366.68 days\n"
     ]
    }
   ],
   "source": [
    "m_earth = 5.972e24  # kg\n",
    "m_sun = 1.989e30    # kg\n",
    "G = 6.6743e-11      # m^3 kg^-1 s^-2\n",
    "s = 1.50e11         # m\n",
    "\n",
    "omega = (G * (m_earth + m_sun) / s**3)**(0.5)\n",
    "period_seconds = 2 * 3.14159 / omega\n",
    "period_days = period_seconds / (60 * 60 * 24)\n",
    "print(f'orbit period: {period_days:.2f} days')"
   ]
  },
  {
   "cell_type": "markdown",
   "id": "54cdf05f",
   "metadata": {},
   "source": [
    "Ok now imagine there is a satellite of mass $m$ somewhere in the orbital plane of the two bodies, so its position in the rotating frame is:"
   ]
  },
  {
   "cell_type": "markdown",
   "id": "9c2a24b7",
   "metadata": {},
   "source": [
    "$$\n",
    "\\mathbf r = x \\hat x + y \\hat y\n",
    "$$"
   ]
  },
  {
   "cell_type": "markdown",
   "id": "6c83ea04",
   "metadata": {},
   "source": [
    "There is a centrifugal force on the satellite due to the rotating frame."
   ]
  },
  {
   "cell_type": "markdown",
   "id": "ea04aab8",
   "metadata": {},
   "source": [
    "$$\n",
    "\\mathbf F_c\n",
    "= \\omega^2 m \\mathbf r\n",
    "= \\frac{G (m_1 + m_2)}{s^3} m \\mathbf r\n",
    "$$"
   ]
  },
  {
   "cell_type": "markdown",
   "id": "204c45f5",
   "metadata": {},
   "source": [
    "And the gravitational bodies also pull on the satellite:"
   ]
  },
  {
   "cell_type": "markdown",
   "id": "339ab55f",
   "metadata": {},
   "source": [
    "$$\n",
    "\\mathbf F_g\n",
    "= -G m m_1\\frac{\\mathbf r - \\mathbf r_1}{|\\mathbf r - \\mathbf r_1|^3}\n",
    "  - G m m_2\\frac{\\mathbf r - \\mathbf r_2}{|\\mathbf r - \\mathbf r_2|^3}\n",
    "$$"
   ]
  },
  {
   "cell_type": "markdown",
   "id": "91b7c961",
   "metadata": {},
   "source": [
    "So the net gravitational-centrifugal field acting on the satellite is then:"
   ]
  },
  {
   "cell_type": "markdown",
   "id": "a9b1fd56",
   "metadata": {},
   "source": [
    "$$\n",
    "\\mathbf E\n",
    "= \\frac{1}{m}(\\mathbf F_c + \\mathbf F_g)\n",
    "= G \\frac{m_1 + m_2}{s^3} \\mathbf r\n",
    "-G m_1 \\frac{\\mathbf r - \\mathbf r_1}{|\\mathbf r - \\mathbf r_1|^3}\n",
    "-G m_2 \\frac{\\mathbf r - \\mathbf r_2}{|\\mathbf r - \\mathbf r_2|^3}\n",
    "$$"
   ]
  },
  {
   "cell_type": "markdown",
   "id": "01316b3f",
   "metadata": {},
   "source": [
    "Keep in mind that this formula is only valid for a satellite that is stationary in the rotating frame. If it were moving, then there would be an additional force acting on it, the Coriolis force, which depends on the velocity of the satellite.\n",
    "\n",
    "I want to find the values of $\\mathbf r$ where $E = 0$. In order to do that, I'm going to need to split $\\mathbf E$ into its components."
   ]
  },
  {
   "cell_type": "markdown",
   "id": "ea36b78a",
   "metadata": {},
   "source": [
    "$$\n",
    "\\mathbf E = E_x \\hat x + E_y \\hat y\n",
    "$$"
   ]
  },
  {
   "cell_type": "markdown",
   "id": "a8718118",
   "metadata": {},
   "source": [
    "$$\n",
    "\\mathbf r - \\mathbf r_1\n",
    "= (x \\hat x + y \\hat y) - (-r_1 \\hat x)\n",
    "= (x + r_1) \\hat x + y \\hat y\n",
    "$$"
   ]
  },
  {
   "cell_type": "markdown",
   "id": "563c0361",
   "metadata": {},
   "source": [
    "$$\n",
    "|\\mathbf r - \\mathbf r_1|\n",
    "= \\sqrt{(x + r_1)^2 + y^2}\n",
    "$$"
   ]
  },
  {
   "cell_type": "markdown",
   "id": "2310eef6",
   "metadata": {},
   "source": [
    "$$\n",
    "\\mathbf r - \\mathbf r_2\n",
    "= (x \\hat x + y \\hat y) - (r_2 \\hat x)\n",
    "= (x - r_2) \\hat x + y \\hat y\n",
    "$$"
   ]
  },
  {
   "cell_type": "markdown",
   "id": "20c9c2f7",
   "metadata": {},
   "source": [
    "$$\n",
    "|\\mathbf r - \\mathbf r_2|\n",
    "= \\sqrt{(x - r_2)^2 + y^2}\n",
    "$$"
   ]
  },
  {
   "cell_type": "markdown",
   "id": "5c5b286a",
   "metadata": {},
   "source": [
    "$$\n",
    "E_x =\n",
    "G \\frac{m_1 + m_2}{s^3}  x\n",
    "- G m_1 \\frac{x + r_1}{\\Bigl((x + r_1)^2 + y^2\\Bigr)^{3/2}}\n",
    "- G m_2 \\frac{x - r_2}{\\Bigl((x - r_2)^2 + y^2\\Bigr)^{3/2}}\n",
    "$$"
   ]
  },
  {
   "cell_type": "markdown",
   "id": "a7f8be84",
   "metadata": {},
   "source": [
    "$$\n",
    "E_y =\n",
    "G \\frac{m_1 + m_2}{s^3}  y\n",
    "- G m_1 \\frac{y}{\\Bigl((x + r_1)^2 + y^2\\Bigr)^{3/2}}\n",
    "- G m_2 \\frac{y}{\\Bigl((x - r_2)^2 + y^2\\Bigr)^{3/2}}\n",
    "$$"
   ]
  },
  {
   "cell_type": "markdown",
   "id": "3a0bc217",
   "metadata": {},
   "source": [
    "One thing I can do right now is to generate a plot of $E$ with numerically computed values."
   ]
  },
  {
   "cell_type": "code",
   "execution_count": 2,
   "id": "8273379c",
   "metadata": {},
   "outputs": [
    {
     "data": {
      "image/png": "[encoded data removed]",
      "text/plain": [
       "<Figure size 640x480 with 2 Axes>"
      ]
     },
     "metadata": {},
     "output_type": "display_data"
    }
   ],
   "source": [
    "import numpy as np\n",
    "import matplotlib.pyplot as plt\n",
    "\n",
    "# Given values\n",
    "G = 1\n",
    "m1 = 2\n",
    "m2 = 1\n",
    "s = 3\n",
    "\n",
    "# Find positions of bodies and rotational velocity\n",
    "r1 = s * m2 / (m1 + m2)\n",
    "r2 = s * m1 / (m1 + m2)\n",
    "\n",
    "# Calculate |E| for a range of positions\n",
    "x_vals = np.linspace(-4, 4, 500)\n",
    "y_vals = np.linspace(-4, 4, 500)\n",
    "x, y = np.meshgrid(x_vals, y_vals)\n",
    "denom1 = ((x + r1)**2 + y**2)**(3/2)\n",
    "denom2 = ((x - r2)**2 + y**2)**(3/2)\n",
    "omega2 = G * (m1 + m2) / s**3\n",
    "E_x = (\n",
    "    omega2 * x\n",
    "    - G * m1 * (x + r1) / denom1\n",
    "    - G * m2 * (x - r2) / denom2\n",
    ")\n",
    "E_y = (\n",
    "    omega2 * y\n",
    "    - G * m1 * y / denom1\n",
    "    - G * m2 * y / denom2\n",
    ")\n",
    "E = (E_x**2 + E_y**2)**0.5\n",
    "\n",
    "# Create plot\n",
    "cs = plt.contourf(\n",
    "    x, y, E,\n",
    "    levels=[0] + [0.04 * (2**n) for n in range(7)],\n",
    "    colors=['0.0', '0.4', '0.5', '0.6', '0.7', '0.8', '0.9', '1.0'],\n",
    "    extend='max',\n",
    ")\n",
    "plt.colorbar(cs)\n",
    "plt.scatter([-r1, r2], [0, 0], marker='*', color='0.0')\n",
    "plt.scatter(0, 0, marker='x', color='0.0')\n",
    "ax = plt.gca()\n",
    "ax.annotate('$m_1$', (-r1-0.2, 0.2))\n",
    "ax.annotate('$m_2$', (r2-0.2, 0.2))\n",
    "ax.annotate('origin', (0-0.4, 0.2))\n",
    "plt.axis('square')\n",
    "plt.ylabel('y')\n",
    "plt.xlabel('x')\n",
    "plt.title((\n",
    "    '$|E|$ for gravitational-centrifugal field in rotating frame\\n'\n",
    "    f'$m_1$={m1}, $m_2$={m2}, $s$={3}, $G$={1}'\n",
    "))\n",
    "plt.show()"
   ]
  },
  {
   "cell_type": "markdown",
   "id": "b0254103",
   "metadata": {},
   "source": [
    "We can see in the above plot that there are five little spots where $E < 0.04$. Presumably, there's one point in each of those five spots where $E=0$ exactly. My task is to find them algebraically."
   ]
  },
  {
   "cell_type": "markdown",
   "id": "3ceab9f9",
   "metadata": {},
   "source": [
    "$$\n",
    "E_y =\n",
    "G \\frac{m_1 + m_2}{s^3}  y\n",
    "- G m_1 \\frac{y}{\\Bigl((x + r_1)^2 + y^2\\Bigr)^{3/2}}\n",
    "- G m_2 \\frac{y}{\\Bigl((x - r_2)^2 + y^2\\Bigr)^{3/2}}\n",
    "= 0\n",
    "$$"
   ]
  },
  {
   "cell_type": "markdown",
   "id": "f6ffe5c2",
   "metadata": {},
   "source": [
    "It's clear that one class of solutions has $y = 0$, so let's find the values for $x$ that satisfy $E_x = 0$ when $y=0$."
   ]
  },
  {
   "cell_type": "markdown",
   "id": "6a8a51b3",
   "metadata": {},
   "source": [
    "$$\n",
    "E_{x(y=0)}\n",
    "= G \\frac{m_1 + m_2}{s^3} x\n",
    "- G m_1 \\frac{x + r_1}{\\Bigl((x + r_1)^2\\Bigr)^{3/2}}\n",
    "- G m_2 \\frac{x - r_2}{\\Bigl((x - r_2)^2\\Bigr)^{3/2}}\n",
    "$$"
   ]
  },
  {
   "cell_type": "markdown",
   "id": "35f6b72c",
   "metadata": {},
   "source": [
    "$$\n",
    "= G \\frac{m_1 + m_2}{s^3} x\n",
    "- G m_1 \\frac{x}{|x|} \\frac{1}{(x + r_1)^{2}}\n",
    "- G m_2 \\frac{x}{|x|} \\frac{1}{(x - r_2)^{2}}\n",
    "= 0\n",
    "$$"
   ]
  },
  {
   "cell_type": "markdown",
   "id": "20b06bba",
   "metadata": {},
   "source": [
    "$$\n",
    "\\rightarrow\\quad\n",
    "(m_1 + m_2) |x|\n",
    "- m_1 s^3 \\frac{1}{(x + r_1)^{2}}\n",
    "- m_2 s^3 \\frac{1}{(x - r_2)^{2}}\n",
    "= 0\n",
    "$$"
   ]
  },
  {
   "cell_type": "markdown",
   "id": "8644ed6a",
   "metadata": {},
   "source": [
    "This is a complicated 5th degree polynomial, also called a quintic. Quintics are not always solvable in closed form. I tried a few times to find a solution to this one, but could not.\n",
    "\n",
    "Many people have tackled this, and I've seen claims online that these coplanar (meaning $y = 0$) Lagrange points do not have a closed form solution.\n",
    "\n",
    "[The Lagrange Points, by Neil J. Cornish](https://map.gsfc.nasa.gov/ContentMedia/lagrange.pdf) says:"
   ]
  },
  {
   "cell_type": "markdown",
   "id": "c41b19b5",
   "metadata": {},
   "source": [
    "> We are unable to find closed-form solutions ... for general values of $a$, so instead we seek approximate solutions valid in the limit $ a \\ll 1$."
   ]
  },
  {
   "cell_type": "markdown",
   "id": "9522a30a",
   "metadata": {},
   "source": [
    "In their case, $a = m_2 / (m_1 + m_2)$, so in other words, they are approximating that $m_1 \\gg m_2$.\n",
    "\n",
    "But I'm having trouble finding a definitive proof that the coplanar points have no closed form solution. If no one has written it, then there is a chance that a close form solution actually does exist."
   ]
  },
  {
   "cell_type": "markdown",
   "id": "7f237276",
   "metadata": {},
   "source": []
  }
 ],
 "metadata": {
  "kernelspec": {
   "display_name": "main",
   "language": "python",
   "name": "python3"
  },
  "language_info": {
   "codemirror_mode": {
    "name": "ipython",
    "version": 3
   },
   "file_extension": ".py",
   "mimetype": "text/x-python",
   "name": "python",
   "nbconvert_exporter": "python",
   "pygments_lexer": "ipython3",
   "version": "3.11.3"
  }
 },
 "nbformat": 4,
 "nbformat_minor": 5
}
