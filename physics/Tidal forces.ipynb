{
 "cells": [
  {
   "cell_type": "markdown",
   "id": "259c7cf3",
   "metadata": {},
   "source": [
    "## Tidal forces\n",
    "\n",
    "If a gravitational body is in a non-uniform gravitational field, it experiences tidal forces, which means that different parts of the body experience different magnitudes and directions of force."
   ]
  },
  {
   "cell_type": "markdown",
   "id": "b8be1121",
   "metadata": {},
   "source": [
    "### Basic picture\n",
    "\n",
    "Imagine a planet $A$ in isolation, with no other gravitational bodies nearby and with no angular momentum. If the materials that compose it are completely free to move around like a liquid with some viscosity, then they will tend to move to spots that minimize the total gravitational potential energy of the configuration. The final configuration would have an approximately spherical surface centered on the center of mass of planet $A$.\n",
    "\n",
    "Now imagine we place planet $A$ in a circular orbit with another gravitational body of mass $M$ that is also approximately spherical. Since the orbit is circular, we can assume that the distance between the two bodies never changes and they both rotate around their shared center of mass at a constant angular velocity."
   ]
  },
  {
   "cell_type": "markdown",
   "id": "6abdca5a",
   "metadata": {},
   "source": [
    "Due to Newton's shell theorem, mass $M$ will create an external gravitational field $\\mathbf g$ that is exactly equivalent to that of a point mass."
   ]
  },
  {
   "cell_type": "markdown",
   "id": "b49ffa14",
   "metadata": {},
   "source": [
    "$$\n",
    "\\mathbf g\n",
    "= -\\frac{G M}{s^2} \\hat s\n",
    "$$"
   ]
  },
  {
   "cell_type": "markdown",
   "id": "2a52a53d",
   "metadata": {},
   "source": [
    "Where $\\mathbf s$ is a position in space relative to the position of the point mass $M$.\n",
    "\n",
    "Let's draw a diagram illustrating the tidal forces."
   ]
  },
  {
   "cell_type": "code",
   "execution_count": 1,
   "id": "5277c0b5",
   "metadata": {},
   "outputs": [
    {
     "data": {
      "text/plain": [
       "[]"
      ]
     },
     "execution_count": 1,
     "metadata": {},
     "output_type": "execute_result"
    },
    {
     "data": {
      "image/png": "[encoded data removed]",
      "text/plain": [
       "<Figure size 640x480 with 1 Axes>"
      ]
     },
     "metadata": {},
     "output_type": "display_data"
    }
   ],
   "source": [
    "import matplotlib.pyplot as plt\n",
    "\n",
    "ax = plt.gca()\n",
    "ax.set_axis_off()\n",
    "ax.add_patch(plt.Circle(\n",
    "    (0, 0), 1,\n",
    "))\n",
    "plt.scatter(0, 4, color='black')\n",
    "plt.plot([1, 0, -1], [0, 4, 0], linestyle='dotted', color='black')\n",
    "\n",
    "plt.arrow(-1, 0, 1 / 3, 4 / 3, head_width=0.1)\n",
    "plt.text(-1.25, 0, '$g_l$')\n",
    "plt.arrow(1, 0, -1 / 3, 4 / 3, head_width=0.1)\n",
    "plt.text(1.1, 0, '$g_r$')\n",
    "plt.arrow(0, 1, 0, 1.5, head_width=0.1)\n",
    "\n",
    "\n",
    "plt.text(0.1, 1.1, '$g_u$')\n",
    "plt.arrow(0, -1, 0, 0.5, head_width=0.1)\n",
    "plt.text(0.1, -0.85, '$g_d$', color='white')\n",
    "plt.text(0, 0, '$A$', color='white')\n",
    "plt.text(-0.1, 4.2, '$M$')\n",
    "plt.axis('square')\n",
    "plt.xlim(-2, 2)\n",
    "plt.ylim(-1.2, 4.8)\n",
    "plt.title((\n",
    "    'Gravitational field $g$ due to point mass $M$\\n'\n",
    "    'acting on a spherical body'\n",
    "))\n",
    "plt.plot()"
   ]
  },
  {
   "cell_type": "markdown",
   "id": "925b6252",
   "metadata": {},
   "source": [
    "Above is an example diagram of planet $A$ in the presence of the gravitational field $\\mathbf g$ that is generated by a point mass $M$. (To illustrate the tidal forces, it is not drawn to a realistic scale. In reality, the distances between planets, moons, and stars are much greater than their diameters.)"
   ]
  },
  {
   "cell_type": "markdown",
   "id": "5cc1353f",
   "metadata": {},
   "source": [
    "\n",
    "Field vectors are drawn at four points on the surface of $A$.\n",
    "\n",
    "$\\mathbf g_u$ and $\\mathbf g_d$ have the same direction, but they have different magnitudes. The position $\\mathbf s_d$ of $\\mathbf g_d$ is further away from $M$ than the position $\\mathbf s_u$ of $\\mathbf g_u$, so $g_d < g_u$. This causes $A$ to stretch out vertically.\n",
    "\n",
    "$\\mathbf g_l$ and $\\mathbf g_r$ have the same magnitude, but they have opposing horizontal components pointing inward. These inward force components will cause $A$ to contract horizontally.\n",
    "\n",
    "And of course there is a third dimension to be aware of. In fact, the effects of $\\mathbf g$ on planet $A$ are rotationally symmetric about the axis that connects the centers of $A$ and $M$."
   ]
  },
  {
   "cell_type": "markdown",
   "id": "d67d5c3e",
   "metadata": {},
   "source": [
    "### Comparison of tidal effects\n",
    "\n",
    "Ok, now I want to ask the question, does the moon or the sun have a stronger effect on Earth's tides? Let's approximate the Earth as a sphere of radius $R$, and assume that its orbits with the moon and the sun are both approximately circular. We'll say that the moon or sun is a point mass $M$ a distance $l$ away from Earth's center.\n",
    "\n",
    "We need to write down expressions for $\\mathbf g_u$, $\\mathbf g_d$, $\\mathbf g_l$, and $\\mathbf g_r$. Let's say that Earth's center is at the origin and the other body is at $l \\hat y$. $\\mathbf g_u$ and $\\mathbf g_d$ are pretty straightforward since they obviously have direction $\\hat y$."
   ]
  },
  {
   "cell_type": "markdown",
   "id": "32e925fe",
   "metadata": {},
   "source": [
    "$$\n",
    "\\mathbf g_u\n",
    "= \\frac{G M}{(l - R)^2} \\hat y\n",
    "\\quad\\quad\n",
    "\\mathbf g_d\n",
    "= \\frac{G M}{(l + R)^2} \\hat y\n",
    "$$"
   ]
  },
  {
   "cell_type": "markdown",
   "id": "51377ecc",
   "metadata": {},
   "source": [
    "$\\mathbf g_l$ and $\\mathbf g_r$ are slightly more complicated because they are at some angle $\\theta$ with respect to $\\hat y$."
   ]
  },
  {
   "cell_type": "markdown",
   "id": "ff3d1511",
   "metadata": {},
   "source": [
    "$$\n",
    "\\mathbf g_l\n",
    "= \\frac{G M}{(\\sqrt{l^2 + R^2})^2} \\hat s\n",
    "= \\frac{G M}{l^2 + R^2} (\\sin\\theta \\hat x + \\cos\\theta \\hat y)\n",
    "$$"
   ]
  },
  {
   "cell_type": "markdown",
   "id": "56519cca",
   "metadata": {},
   "source": [
    "$$\n",
    "= \\frac{G M}{l^2 + R^2} \\Biggl(\n",
    "    \\frac{R}{\\sqrt{l^2 + R^2}} \\hat x\n",
    "    + \\frac{l}{\\sqrt{l^2 + R^2}} \\hat y\n",
    "\\Biggr)\n",
    "$$"
   ]
  },
  {
   "cell_type": "markdown",
   "id": "26c8bd41",
   "metadata": {},
   "source": [
    "$$\n",
    "\\mathbf g_l\n",
    "= \\frac{G M}{(l^2 + R^2)^{3/2}} (R \\hat x + l \\hat y)\n",
    "\\quad\\quad\n",
    "\\mathbf g_r\n",
    "= \\frac{G M}{(l^2 + R^2)^{3/2}} (-R \\hat x + l \\hat y)\n",
    "$$"
   ]
  },
  {
   "cell_type": "markdown",
   "id": "51197de5",
   "metadata": {},
   "source": [
    "Now that we know the gravitational field at those four points, we should find the differences between them:"
   ]
  },
  {
   "cell_type": "markdown",
   "id": "5ffd3724",
   "metadata": {},
   "source": [
    "$$\n",
    "\\Delta g_{ud}\n",
    "= |\\mathbf g_u - \\mathbf g_d|\n",
    "= GM \\Biggl(\n",
    "   \\frac{1}{(l - R)^2}\n",
    "   - \\frac{1}{(l + R)^2}\n",
    "\\Biggr)\n",
    "$$"
   ]
  },
  {
   "cell_type": "markdown",
   "id": "89757b65",
   "metadata": {},
   "source": [
    "$$\n",
    "= GM \\frac{(l + R)^2 - (l - R)^2}{(l - R)^2 (l + R)^2}\n",
    "= GM \\frac{(l^2 + 2 l R + R^2) - (l^2 - 2 l R + R^2)}{(l^2 - R^2)^2}\n",
    "$$"
   ]
  },
  {
   "cell_type": "markdown",
   "id": "21ee95af",
   "metadata": {},
   "source": [
    "$$\n",
    "\\Delta g_{ud}\n",
    "= \\frac{4 G M l R}{(l^2 - R^2)^2}\n",
    "$$"
   ]
  },
  {
   "cell_type": "markdown",
   "id": "e26a6da2",
   "metadata": {},
   "source": [
    "$$\n",
    "\\Delta g_{lr}\n",
    "= |\\mathbf g_l - \\mathbf g_r|\n",
    "= \\frac{2 G M R}{(l^2 + R^2)^{3/2}}\n",
    "$$"
   ]
  },
  {
   "cell_type": "markdown",
   "id": "071c50ae",
   "metadata": {},
   "source": [
    "One thing to note here is that if we make the approximation that $l \\gg R$, then the $R^2$ in the denominators of $\\Delta g_{ud}$ and $\\Delta g_{lr}$ goes to zero and $\\Delta g_{ud} \\approx 2 \\Delta g_{lr}$. We'll return to that observation in a moment.\n",
    "\n",
    "Now we can plug in the variables for the Earth-moon and Earth-sun interactions and compare the values of $\\Delta g_{ud}$ and $\\Delta g_{lr}$ that we get in either case. Whichever one gives larger values will produce a greater tidal effect on Earth.\n",
    "\n",
    "**Earth-moon**"
   ]
  },
  {
   "cell_type": "code",
   "execution_count": 2,
   "id": "c843913a",
   "metadata": {},
   "outputs": [],
   "source": [
    "G = 6.6743e-11  # m^3 kg^-1 s^-2\n",
    "\n",
    "def calc_dgud(R, M, l):\n",
    "    return 4 * G * M * l * R / (l**2 - R**2)**2\n",
    "\n",
    "def calc_dglr(R, M, l):\n",
    "    return(2 * G * M * R) / (l**2 + R**2)**(3/2)"
   ]
  },
  {
   "cell_type": "code",
   "execution_count": 3,
   "id": "52053833",
   "metadata": {},
   "outputs": [
    {
     "name": "stdout",
     "output_type": "stream",
     "text": [
      "delta g_ud: 22.04 x 10^-7 m/s^2\n",
      "delta g_lr: 11.01 x 10^-7 m/s^2\n"
     ]
    }
   ],
   "source": [
    "R = 6_378_000 # m, earth radius\n",
    "M = 7.347e22  # kg, moon mass\n",
    "l = 384_400_000 # m, earth-moon distance\n",
    "dgud = calc_dgud(R, M, l)\n",
    "dglr = calc_dglr(R, M, l)\n",
    "print(f'delta g_ud: {dgud / 1e-7:.2f} x 10^-7 m/s^2')\n",
    "print(f'delta g_lr: {dglr / 1e-7:.2f} x 10^-7 m/s^2')"
   ]
  },
  {
   "cell_type": "markdown",
   "id": "15a66b1a",
   "metadata": {},
   "source": [
    "**Earth-sun**"
   ]
  },
  {
   "cell_type": "code",
   "execution_count": 4,
   "id": "4360cc7d",
   "metadata": {},
   "outputs": [
    {
     "name": "stdout",
     "output_type": "stream",
     "text": [
      "delta g_ud: 9.87 x 10^-7 m/s^2\n",
      "delta g_lr: 4.94 x 10^-7 m/s^2\n"
     ]
    }
   ],
   "source": [
    "R = 6_378_000 # m, earth radius\n",
    "M = 1.989e30  # kg, sun mass\n",
    "l = 150.81e9 # m, earth-sun distance\n",
    "dgud = calc_dgud(R, M, l)\n",
    "dglr = calc_dglr(R, M, l)\n",
    "print(f'delta g_ud: {dgud / 1e-7:.2f} x 10^-7 m/s^2')\n",
    "print(f'delta g_lr: {dglr / 1e-7:.2f} x 10^-7 m/s^2')"
   ]
  },
  {
   "cell_type": "markdown",
   "id": "afa8d6ef",
   "metadata": {},
   "source": [
    "We can see that for the Earth-moon interaction, $\\Delta g_{ud}$ and $\\Delta g_{lr}$ are both a little more than twice those of the Earth-sun interaction. So the moon's tidal effects on Earth are twice as strong as those of the sun.\n",
    "\n",
    "As mentioned before, it is apparent that:"
   ]
  },
  {
   "cell_type": "markdown",
   "id": "5fa18c1c",
   "metadata": {},
   "source": [
    "$$\n",
    "\\Delta g_{ud} \\approx 2 \\Delta g_{lr}\n",
    "$$"
   ]
  },
  {
   "cell_type": "markdown",
   "id": "fe616e25",
   "metadata": {},
   "source": [
    "Remember, there's a third dimension, the forward-back dimension, in which Earth is sqeezed by $\\Delta g_{fb} = \\Delta g_{lr}$. We could ask the question, which is stronger, the stretching or squeezing forces? The answer would be that neither is stronger, they are balanced because:"
   ]
  },
  {
   "cell_type": "markdown",
   "id": "c3c6dbb4",
   "metadata": {},
   "source": [
    "$$\n",
    "\\Delta g_{ud} \\approx \\Delta g_{lr} + \\Delta g_{fb}\n",
    "$$"
   ]
  },
  {
   "cell_type": "markdown",
   "id": "d98e056d",
   "metadata": {},
   "source": [
    "I'm not exactly sure how to prove it at the moment, but I suspect that the balancing of the stretching and squeezing forces is due to the fact that the gravitational field has zero divergence."
   ]
  },
  {
   "cell_type": "markdown",
   "id": "08a6c217",
   "metadata": {},
   "source": [
    "### Surface deformation due to tidal forces\n",
    "\n",
    "Let's try to identify a method to approximate the shape that a planet takes due to the tidal forces. To do this, we need to first determine the potential energy field due to gravitational and centrifugal forces.\n",
    "\n",
    "The planet's surface will be a closed equipotential surface in the potential energy field. In order to make that happen, we will assume that the planet reconfigures practically immediately to minimize potential energy. Of course real planets cannot do this because the materials they are composed of interact in very complicated nonlinear ways. But this approximation will gives us a good maximal limit on what kinds of tidal deformations we could expect a planet to have.\n",
    "\n",
    "We'll find an equation for the potential energy in a reference frame rotating at angular speed $\\omega$ so that the two gravitational bodies are stationary.\n",
    "\n",
    "First, the gravitational potential at position $\\mathbf r$ due to a point mass $M$ located at $\\mathbf r'$ can be written as:"
   ]
  },
  {
   "cell_type": "markdown",
   "id": "b93ae547",
   "metadata": {},
   "source": [
    "$$\n",
    "V_g\n",
    "= -G M \\frac{1}{|\\mathbf r - \\mathbf r'|} \n",
    "= -G M \\frac{1}{s}\n",
    "\\quad\\quad\n",
    "\n",
    "\\mathbf s = \\mathbf r - \\mathbf r'\n",
    "$$"
   ]
  },
  {
   "cell_type": "markdown",
   "id": "cfa559ef",
   "metadata": {},
   "source": [
    "Let's just prove that this potential satisifies the definitive relationship between the potential and the force field. For this, we'll use a coordinate system where $\\mathbf s = x \\hat x + y \\hat y + z \\hat z$."
   ]
  },
  {
   "cell_type": "markdown",
   "id": "00bcf83a",
   "metadata": {},
   "source": [
    "$$\n",
    "\\mathbf g\n",
    "= -\\nabla V_g\n",
    "= GM \\nabla \\frac{1}{s}\n",
    "= GM \\Biggl(\n",
    "    \\hat x \\frac{\\partial}{\\partial x} \\frac{1}{s}\n",
    "  + \\hat y \\frac{\\partial}{\\partial y} \\frac{1}{s}\n",
    "  + \\hat z \\frac{\\partial}{\\partial z} \\frac{1}{s}\n",
    "\\Biggr)\n",
    "$$"
   ]
  },
  {
   "cell_type": "markdown",
   "id": "0d025abc",
   "metadata": {},
   "source": [
    "We'll focus on the $\\hat x$ term first."
   ]
  },
  {
   "cell_type": "markdown",
   "id": "474bd09b",
   "metadata": {},
   "source": [
    "$$\n",
    "\\frac{\\partial}{\\partial x} \\frac{1}{s}\n",
    "= \\frac{\\partial}{\\partial x} \\frac{1}{\\sqrt{x^2 + y^2 + z^2}}\n",
    "= \\Biggl(\n",
    "    -\\frac{1}{2} \\frac{1}{(x^2 + y^2 + z^2)^{3/2}}\n",
    "\\Biggr)\n",
    "\\frac{\\partial}{\\partial x} (x^2 + y^2 + z^2)\n",
    "$$"
   ]
  },
  {
   "cell_type": "markdown",
   "id": "7ee67615",
   "metadata": {},
   "source": [
    "$$\n",
    "= -\\frac{1}{2} \\frac{1}{s^3} (2 x)\n",
    "= - \\frac{x}{s^3}\n",
    "$$"
   ]
  },
  {
   "cell_type": "markdown",
   "id": "13b01a3e",
   "metadata": {},
   "source": [
    "And due to symmetry, we can just replace $x$ for the $\\hat y$ and $\\hat z$ terms to get:"
   ]
  },
  {
   "cell_type": "markdown",
   "id": "855f1531",
   "metadata": {},
   "source": [
    "$$\n",
    "\\mathbf g\n",
    "= GM \\Biggl(\n",
    "  - \\hat x \\frac{x}{s^3}\n",
    "  - \\hat y \\frac{y}{s^3}\n",
    "  - \\hat z \\frac{z}{s^3}\n",
    "\\Biggr)\n",
    "= - \\frac{GM}{s^3} (\n",
    "  x \\hat x\n",
    "  + y \\hat y\n",
    "  + z \\hat z\n",
    ")\n",
    "= -\\frac{GM}{s^2} \\hat s\n",
    "$$"
   ]
  },
  {
   "cell_type": "markdown",
   "id": "95825491",
   "metadata": {},
   "source": [
    "So $V_g$ is correct. Next, there is the issue of the centrifugal force in the rotating frame. The centrifugal acceleration is:"
   ]
  },
  {
   "cell_type": "markdown",
   "id": "41d4eca8",
   "metadata": {},
   "source": [
    "$$\n",
    "\\mathbf a_c\n",
    "= \\omega^2 \\mathbf r_{xy}\n",
    "= \\omega^2 (x \\hat x + y \\hat y)\n",
    "$$"
   ]
  },
  {
   "cell_type": "markdown",
   "id": "8cab668c",
   "metadata": {},
   "source": [
    "As shown in my notes on [Lagrange points](<./Lagrange points.ipynb>), the angular speed of the circular orbit of two masses $m_1$ and $m_2$ a distance $l$ apart from each other is:"
   ]
  },
  {
   "cell_type": "markdown",
   "id": "85763634",
   "metadata": {},
   "source": [
    "$$\n",
    "\\omega^2 = G \\frac{m_1 + m_2}{l^3}\n",
    "$$"
   ]
  },
  {
   "cell_type": "markdown",
   "id": "28c9f784",
   "metadata": {},
   "source": [
    "We can write the potential of the centrifugal acceleration as:"
   ]
  },
  {
   "cell_type": "markdown",
   "id": "008e52e1",
   "metadata": {},
   "source": [
    "$$\n",
    "V_c\n",
    "= -\\frac{\\omega^2}{2} {r_{xy}}^2\n",
    "$$"
   ]
  },
  {
   "cell_type": "markdown",
   "id": "4928d79d",
   "metadata": {},
   "source": [
    "And we can show that this satisfies the relationship between potential and field:"
   ]
  },
  {
   "cell_type": "markdown",
   "id": "13bdc49b",
   "metadata": {},
   "source": [
    "$$\n",
    "\\mathbf a_c\n",
    "= -\\nabla V_c\n",
    "= \\frac{\\omega^2}{2} \\Biggl(\n",
    "    \\hat x \\frac{\\partial}{\\partial x}{r_{xy}}^2\n",
    "  + \\hat y \\frac{\\partial}{\\partial y}{r_{xy}}^2\n",
    "  + \\hat z \\frac{\\partial}{\\partial z}{r_{xy}}^2\n",
    "\\Biggr)\n",
    "$$"
   ]
  },
  {
   "cell_type": "markdown",
   "id": "853e31ed",
   "metadata": {},
   "source": [
    "We can focus on just the $\\hat x$ component for a moment."
   ]
  },
  {
   "cell_type": "markdown",
   "id": "c6da6def",
   "metadata": {},
   "source": [
    "$$\n",
    "\\frac{\\partial}{\\partial x}{r_{xy}}^2\n",
    "= \\frac{\\partial}{\\partial x} \\Bigl(\\sqrt{x^2 + y^2}\\Bigr)^2\n",
    "= \\Bigl(2 \\sqrt{x^2 + y^2}\\Bigr) \\frac{\\partial}{\\partial x} \\sqrt{x^2 + y^2}\n",
    "$$"
   ]
  },
  {
   "cell_type": "markdown",
   "id": "2b557b58",
   "metadata": {},
   "source": [
    "$$\n",
    "= \\Bigl(2 \\sqrt{x^2 + y^2}\\Bigr)\n",
    "\\Biggl(\\frac{1}{2} \\frac{1}{\\sqrt{x^2 + y^2}}\\Biggr)\n",
    "\\frac{\\partial}{\\partial x} (x^2)\n",
    "= 2 x\n",
    "$$"
   ]
  },
  {
   "cell_type": "markdown",
   "id": "b636f09f",
   "metadata": {},
   "source": [
    "Due to symmetry, we can replace $x$ in the above expression to get the $\\hat y$ component. And of course $(\\partial/\\partial z) {r_{xy}}^2 = 0$, since $r_{xy}$ does not depend on $z$."
   ]
  },
  {
   "cell_type": "markdown",
   "id": "effe267b",
   "metadata": {},
   "source": [
    "$$\n",
    "\\mathbf a_c\n",
    "= \\frac{\\omega^2}{2} (\n",
    "    2 x \\hat x\n",
    "  + 2 y \\hat y\n",
    ")\n",
    "= \\omega^2 \\mathbf r_{xy}\n",
    "$$"
   ]
  },
  {
   "cell_type": "markdown",
   "id": "6dec5c3d",
   "metadata": {},
   "source": [
    "Proving that our centrifugal potential $V_c$ is satisfactory.\n",
    "\n",
    "Ok, so now we have expressions for the potential $V_g$ of the gravitational field of a point particle and the potential $V_c$ of the centrifugal force field.\n",
    "\n",
    "Since we have two bodies, we'll have two gravitational potentials for masses $m_1$ and $m_2$. The total potential is then:"
   ]
  },
  {
   "cell_type": "markdown",
   "id": "13416d82",
   "metadata": {},
   "source": [
    "$$\n",
    "V\n",
    "= V_c + V_{g1} + V_{g2}\n",
    "$$"
   ]
  },
  {
   "cell_type": "markdown",
   "id": "6da50bfb",
   "metadata": {},
   "source": [
    "$$\n",
    "V\n",
    "= -\\frac{\\omega^2}{2}{r_{xy}}^2\n",
    "- G m_1 \\frac{1}{|\\mathbf r - \\mathbf r_1|} \n",
    "- G m_2 \\frac{1}{|\\mathbf r - \\mathbf r_2|} \n",
    "$$"
   ]
  },
  {
   "cell_type": "markdown",
   "id": "fb97cca9",
   "metadata": {},
   "source": [
    "Also shown in my notes on Lagrange points, if the center of mass is at the origin and there is a distance $l$ between $m_1$ and $m_2$, then:"
   ]
  },
  {
   "cell_type": "markdown",
   "id": "58cbdb71",
   "metadata": {},
   "source": [
    "$$\n",
    "r_1 = \\frac{m_2}{m_1 + m_2} l\n",
    "\\quad\\quad\n",
    "r_2 = \\frac{m_1}{m_1 + m_2} l\n",
    "$$"
   ]
  },
  {
   "cell_type": "markdown",
   "id": "86f21b75",
   "metadata": {},
   "source": [
    "Now what if $m_2$ is not actually a point mass but a planet whose surface will get deformed due to tidal forces? Right now, $V_{g2}$ is only an approximation. What we would really like to do is replace the point mass potential with the potential outside of a volume that has mass density distribution $\\rho$.\n",
    "\n",
    "The potential due to a volume mass is:"
   ]
  },
  {
   "cell_type": "markdown",
   "id": "aa9bc835",
   "metadata": {},
   "source": [
    "$$\n",
    "V_{g2}\n",
    "= - G \\underset{V}{\\int} \\frac{\\rho}{|\\mathbf r - \\mathbf r'|} d\\tau\n",
    "$$"
   ]
  },
  {
   "cell_type": "markdown",
   "id": "6741f154",
   "metadata": {},
   "source": [
    "However, finding the solution for the surface of the planet using this continuous mass potential is complicated. One way to do it involves picking an initial guess for the shape of the surface, encoding it into some kind of data structure, and iteratively relaxing the surface so that it settles on an approximate equipotential of the desired total mass.\n",
    "\n",
    "So we are going to stick with the point mass approximation after all.\n",
    "\n",
    "Let's go ahead and plot some of the equipotential surfaces at $z=0$ for given values of $m_1$, $m_2$ and $l$."
   ]
  },
  {
   "cell_type": "markdown",
   "id": "15269618",
   "metadata": {},
   "source": [
    "$$\n",
    "V\n",
    "= -\\frac{\\omega^2}{2}{r_{xy}}^2\n",
    "- G m_1 \\frac{1}{|\\mathbf r - \\mathbf r_1|} \n",
    "- G m_2 \\frac{1}{|\\mathbf r - \\mathbf r_2|} \n",
    "$$"
   ]
  },
  {
   "cell_type": "code",
   "execution_count": 5,
   "id": "fe03f75e",
   "metadata": {},
   "outputs": [
    {
     "data": {
      "image/png": "[encoded data removed]",
      "text/plain": [
       "<Figure size 640x480 with 1 Axes>"
      ]
     },
     "metadata": {},
     "output_type": "display_data"
    }
   ],
   "source": [
    "import numpy as np\n",
    "import matplotlib.pyplot as plt\n",
    "\n",
    "# Given values\n",
    "G = 1\n",
    "m1 = 2\n",
    "m2 = 1\n",
    "l = 3\n",
    "\n",
    "# Find positions of bodies and rotational velocity\n",
    "r1 = l * m2 / (m1 + m2)\n",
    "r2 = l * m1 / (m1 + m2)\n",
    "\n",
    "# Calculate V for a range of positions\n",
    "x_vals = np.linspace(r2-1, r2+1, 500)\n",
    "y_vals = np.linspace(-1, 1, 500)\n",
    "x, y = np.meshgrid(x_vals, y_vals)\n",
    "z = 0\n",
    "r_xy_sq = x**2 + y**2\n",
    "denom1 = ((x + r1)**2 + y**2 + z**2)**(1/2)\n",
    "denom2 = ((x - r2)**2 + y**2 + z**2)**(1/2)\n",
    "omega2 = G * (m1 + m2) / l**3\n",
    "\n",
    "V = - omega2 * r_xy_sq / 2 - G * m1 / denom1 - G * m2 / denom2\n",
    "\n",
    "# Create plot\n",
    "num_levels = 8\n",
    "min_V = 2.1\n",
    "max_V = 6\n",
    "\n",
    "plt.contour(\n",
    "    x, y, np.abs(V),\n",
    "    levels=[min_V + n * (max_V - min_V) / (num_levels - 1)  for n in range(num_levels)],\n",
    "    colors='black',\n",
    "    extend='max',\n",
    ")\n",
    "plt.scatter([r2], [0], marker='*', color='0.0')\n",
    "ax = plt.gca()\n",
    "ax.annotate('$m_2$', (r2-0.05, 0.05))\n",
    "plt.axis('square')\n",
    "plt.ylabel('y')\n",
    "plt.xlabel('x')\n",
    "plt.title((\n",
    "    'Equipotentials around $m_2$\\n'\n",
    "    f'$m_1$={m1}, $m_2$={m2}, $l$={3}, $G$={1}'\n",
    "))\n",
    "plt.grid()\n",
    "plt.show()"
   ]
  },
  {
   "cell_type": "markdown",
   "id": "9034c4bd",
   "metadata": {},
   "source": [
    "In the above plot, the contour lines are drawn at several different equipotentials, places where the potential is constant. So essentially it shows us the possible shapes that the surface of the planet could take at different total volumes. Just looking at it, it seems that the smaller the volume of the planet, the closer it will be to a perfect sphere, and the larger it is, the more it gets deformed by the tidal forces. That makes sense, because the greater the diameter of the planet is, the greater the difference between the gravitational forces at two opposing sides of the planet."
   ]
  },
  {
   "cell_type": "markdown",
   "id": "2b32fb2c",
   "metadata": {},
   "source": []
  }
 ],
 "metadata": {
  "kernelspec": {
   "display_name": "main",
   "language": "python",
   "name": "python3"
  },
  "language_info": {
   "codemirror_mode": {
    "name": "ipython",
    "version": 3
   },
   "file_extension": ".py",
   "mimetype": "text/x-python",
   "name": "python",
   "nbconvert_exporter": "python",
   "pygments_lexer": "ipython3",
   "version": "3.11.3"
  }
 },
 "nbformat": 4,
 "nbformat_minor": 5
}
