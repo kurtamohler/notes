{
 "cells": [
  {
   "cell_type": "markdown",
   "metadata": {},
   "source": [
    "# Electromagnetic levitation\n",
    "\n",
    "I want to make an electromagnet. I understand qualitatively how to do it--wrap some wire up into a coil, pass a current through it, and the current will induce a magnetic field that wraps around the loop according to the right hand rule. The north pole of the magnet is along one side of the axis of the loop, and the south pole is on the other side.\n",
    "\n",
    "I want to levitate objects with an electromagnet, but how do I do that? How do I optimize the design?"
   ]
  },
  {
   "cell_type": "markdown",
   "metadata": {},
   "source": [
    "## Theory\n",
    "\n",
    "First, I need to know some of the theory behind electromagnets. The Biot-Savart law says that the magnetic field due to a steady line current is:"
   ]
  },
  {
   "cell_type": "markdown",
   "metadata": {},
   "source": [
    "$$\n",
    "\\mathbf B(\\mathbf r)\n",
    "= \\frac{\\mu_0}{4 \\pi} \\int \\frac{\\mathbf I \\times \\hat s}{s^2} dl'\n",
    "= \\frac{\\mu_0}{4 \\pi} I \\int \\frac{d \\mathbf I' \\times \\hat s}{s^2}\n",
    "$$"
   ]
  },
  {
   "cell_type": "markdown",
   "metadata": {},
   "source": [
    "$$\\mathbf s = \\mathbf r - \\mathbf r'$$\n",
    "\n",
    "$$ \\mu_0 = 4\\pi \\times 10^{-7} \\text{ N/A}^2 $$"
   ]
  },
  {
   "cell_type": "markdown",
   "metadata": {},
   "source": [
    "Where $\\mathbf r$ is the position of a test charge, $\\mathbf r'$ is a position along the path of the line current, $d l'$ is an element of length along the path of the line current, and $\\mu_0$ is called the permeability of free space.\n",
    "\n",
    "The integral is a path integral along the path that the current flows. You could also have multiple different steady line currents and even circuits with branching currents--you would simply use the principle of superposition to add up the magnetic fields due to each line of steady current.\n",
    "\n",
    "The magnetic field is in units of newtons per ampere-meter $N/(A \\cdot m)$, or teslas T. An alternate unit is called a guass, G, where $10,000 \\text{ G} = 1 \\text{ T}$."
   ]
  },
  {
   "cell_type": "markdown",
   "metadata": {},
   "source": [
    "The Lorentz force law integrated over the length of a steady current carrying wire tells us how much magnetic force the wire experiences when it is placed in a magnetic field:"
   ]
  },
  {
   "cell_type": "markdown",
   "metadata": {},
   "source": [
    "$$\n",
    "\\mathbf F_\\text{mag}\n",
    "= \\int I (d\\mathbf l \\times \\mathbf B)\n",
    "= I \\int (d\\mathbf l \\times \\mathbf B)\n",
    "$$"
   ]
  },
  {
   "cell_type": "markdown",
   "metadata": {},
   "source": [
    "$d\\mathbf l$ represents a small section of the wire. The force is in newtons N."
   ]
  },
  {
   "cell_type": "markdown",
   "metadata": {},
   "source": [
    "From the Biot-Savart law, it's possible to derive Ampere's Law, which can be expressed like so:"
   ]
  },
  {
   "cell_type": "markdown",
   "metadata": {},
   "source": [
    "$$\n",
    "\\oint \\mathbf B \\cdot d \\mathbf l = \\mu_0 I_\\text{enc}\n",
    "$$"
   ]
  },
  {
   "cell_type": "markdown",
   "metadata": {},
   "source": [
    "This means that if we take some closed boundary loop and calculate the line integral of the magnetic field over that loop, the result is proportional to the amount of current that passes through that loop.\n",
    "\n",
    "Ampere's law is very similar to Gauss's law, but it's for magnetic fields rather than electric fields, and it uses a line integral rather than a surface integral.\n",
    "\n",
    "Ampere's law is typically only useful in cases that have symmetries such that we can somehow bring the $\\mathbf B$ term outside of the integral--for instance, if we know that $\\mathbf B \\cdot d\\mathbf l$ is constant over the whole loop."
   ]
  },
  {
   "cell_type": "markdown",
   "metadata": {},
   "source": [
    "Now that we have some tools to calculate the magnetic force between two current carrying wires, let's try to apply them to levitate something with an electromagnet."
   ]
  },
  {
   "cell_type": "markdown",
   "metadata": {},
   "source": [
    "## Project: Levitate a ring magnet on a vertical stick\n",
    "\n",
    "I decided to start with a concrete and relatively simple electromagnetic levitation project.\n",
    "\n",
    "It's fun to stack two permanent ring magnets with opposed poles through a stick. The top magnet floats stably since the stick confines it to only one degree of freedom. (Without the stick, the top magnet would have six degrees of freedom, three rotation and three position, and the stationary magnet on the bottom wouldn't be sufficient to stabilize it.) The top magnet bounces up and down like a spring if you press it all the way down and release it.\n",
    "\n",
    "So I thought, wouldn't it be cool to replace the bottom magnet with an electromagnet? That way, I can control the strength of the field pushing the top magnet to make it move up and down. If I make it look nice, it could be an interesting electronic art piece."
   ]
  },
  {
   "cell_type": "markdown",
   "metadata": {},
   "source": [
    "### Permanent ring magnet characterization\n",
    "\n",
    "In order to figure out what kind of design is necessary for the electromagnet, I need to understand the mechanics of the situation with two permanent ring magnets. Since I want to replace the bottom magnet with an electromagnet, I'll need to make sure the electromagnet I design is as strong as the permanent magnet, so I need to somehow quantify the strength of the magnets.\n",
    "\n",
    "The first step is to take some real world measurements. I have two ring magnets that both weight about 17 g. When I stack them opposed through a vertical stick, the equilibrium height is about 21 mm, measured from the bottom side of both magnets. The magnets have an outer radius of 15 mm, inner radius of 6 mm, and cylindrical height of 6 mm."
   ]
  },
  {
   "cell_type": "markdown",
   "metadata": {},
   "source": [
    "#### Loop current approximation\n",
    "\n",
    "I assume that the fields generated by these permanent magnets can be approximated with the fields generated by two current loops. This is only an approximation, but it should be able to give a roughly similar magnetic field within an order of magnitude, if we pick good parameters for the current loops. Let's say the bottom magnet is now \"loop 1\" and the top magnet is \"loop 2\".\n",
    "\n",
    "Both current loops have radius $R$, equal and opposite currents $I_1 = I $ and $I_2 = -I$ so that the magnetic poles are opposed, mass $m$, and axes aligned vertically with a height of $l$ between them. Let's say that $I_1$ is counterclockwise in the xy-plane, and $I_2$ is clockwise. The bottom loop is in a fixed position with its center at the origin, and the top loop is levitating in the air with its center at $l \\hat z$. There is no one obvious choice for $R$, but for now, let's say that $R = (15 + 6) / 2 = 10.5$ mm, the average of the inner and outer radii of the ring magnets.\n",
    "\n",
    "Now the task is to find the current required to exert enough magnetic force on loop 2 to counter the gravitational force. One way to find the magnetic force on loop 2 is to first find the magnetic field, $\\mathbf B_1(\\mathbf r_2)$, generated by loop 1 at all positions $\\mathbf r_2$ within loop 2. Then we can apply the Lorentz force law to find the magnetic force on loop 2 due to the magnetic field of loop 1.\n",
    "\n",
    "Of course, we could calculate $\\mathbf B_1$ with the Biot-Savart law. But I've tried this, and the integral it gives is too complicated for me--I have no idea how to solve it analytically. Fortunately, there is another helpful approximation we can make."
   ]
  },
  {
   "cell_type": "markdown",
   "metadata": {},
   "source": [
    "#### Infinite line current approximation for $l \\ll R$\n",
    "\n",
    "If the two loop currents are very close to each other, $l \\ll R$, then the strength of the magnetic field $B_1(\\mathbf r_2)$ generated by loop 1 is approximately equal to the magnetic field a finite distance $l$ away from an infinite line current. You can think about it like this: if we zoom in very closely to a particular section of the two loops, it will start to look like the loops are two straight parallel lines that continue forever. This is much like the fact that the Earth looks like an infinite flat plane to a person standing on the surface, even though it's actually spherical--if Earth has radius $R$ and your height is $l$, with $l \\ll R$, the surface of the Earth is approximately an infinite flat plane.\n",
    "\n",
    "It's very important to note that from our measurements of the real world case of the two permanent magnets, the magnets were actually much farther apart than this. In fact, $l \\gt R$ for the $R$ we chose. However, in order to levitate a magnet to a large distance, we first need to be able to levitate it to a short distance. So this approximation is useful--it will give us a good minimum current requirement to at least levitate the magnet to a short distance."
   ]
  },
  {
   "cell_type": "markdown",
   "metadata": {},
   "source": [
    "To calculate the strength of the field a distance $l$ away from an infinite line current, we can use Ampere's law. For the line integral, I'll use a circle of radius $l$ centered around the current, with axis parallel to the line current."
   ]
  },
  {
   "cell_type": "markdown",
   "metadata": {},
   "source": [
    "$$\n",
    "\\oint \\mathbf B \\cdot d\\mathbf l = \\mu_0 I_\\text{enc}\n",
    "= B \\int_{\\phi=0}^{2\\pi} l d\\phi\n",
    "= B 2\\pi l\n",
    "= \\mu_0 I\n",
    "\\longrightarrow\n",
    "B = \\frac{\\mu_0 I}{2\\pi l}\n",
    "$$"
   ]
  },
  {
   "cell_type": "markdown",
   "metadata": {},
   "source": [
    "$$\n",
    "B_1(\\mathbf r_2) \\approx \\frac{\\mu_0 I}{2\\pi l}\n",
    "\\quad \\text{for} \\; l \\ll R\n",
    "$$"
   ]
  },
  {
   "cell_type": "markdown",
   "metadata": {},
   "source": [
    "What's the direction of $\\mathbf B_1(\\mathbf r_2)$? Using the fact that $I_1$ goes counterclockwise in the xy-plane, we apply the right hand rule to determine that the direction of $\\mathbf B_1(\\mathbf r_2)$ points radially outward from the z-axis. So we can use the unit vector $\\hat s$ (from cylindrical coordates) to represent this direction."
   ]
  },
  {
   "cell_type": "markdown",
   "metadata": {},
   "source": [
    "$$\n",
    "\\mathbf B_1(\\mathbf r_2) \\approx \\frac{\\mu_0 I}{2\\pi l} \\hat s\n",
    "\\quad \\text{for} \\; l \\ll R\n",
    "$$"
   ]
  },
  {
   "cell_type": "markdown",
   "metadata": {},
   "source": [
    "Now we can calculate the magnetic force on loop 2:"
   ]
  },
  {
   "cell_type": "markdown",
   "metadata": {},
   "source": [
    "$$\n",
    "\\mathbf F_\\text{mag}\n",
    "= I_2 \\int (d \\mathbf l \\times \\mathbf B_1(\\mathbf r_2))\n",
    "= -I \\int_{\\phi=0}^{2\\pi} \\Biggl(\n",
    "    d \\mathbf l_\\phi \\times \\Bigl(\\frac{\\mu_0 I}{2\\pi l} \\hat s\\Bigr)\n",
    "\\Biggr)\n",
    "$$"
   ]
  },
  {
   "cell_type": "markdown",
   "metadata": {},
   "source": [
    "$$\n",
    "= -\\frac{\\mu_0 I^2}{2 \\pi l} \\int_{\\phi=0}^{2\\pi} (d \\mathbf l_\\phi \\times \\hat s)\n",
    "= -\\frac{\\mu_0 I^2}{2 \\pi l} \\int_{\\phi=0}^{2\\pi} \\Bigl((R d\\phi \\hat \\phi) \\times \\hat s \\Bigr)\n",
    "$$"
   ]
  },
  {
   "cell_type": "markdown",
   "metadata": {},
   "source": [
    "$$\n",
    "= -\\frac{\\mu_0 I^2 R}{2 \\pi l} \\int_{\\phi=0}^{2\\pi}\n",
    "(\\hat \\phi \\times \\hat s ) d\\phi\n",
    "= -\\frac{\\mu_0 I^2 R}{2 \\pi l} \\int_{\\phi=0}^{2\\pi}\n",
    "(- \\hat z) d\\phi\n",
    "$$"
   ]
  },
  {
   "cell_type": "markdown",
   "metadata": {},
   "source": [
    "$$\n",
    "= \\frac{\\mu_0 I^2 R}{2 \\pi l} \\hat z \\int_{\\phi=0}^{2\\pi} d\\phi\n",
    "= \\frac{\\mu_0 I^2 R}{l} \\hat z\n",
    "$$"
   ]
  },
  {
   "cell_type": "markdown",
   "metadata": {},
   "source": [
    "$$\n",
    "\\mathbf F_\\text{mag} \\approx \\frac{\\mu_0 I^2 R}{l} \\hat z\n",
    "\\quad \\text{for} \\; l \\ll R\n",
    "$$"
   ]
  },
  {
   "cell_type": "markdown",
   "metadata": {},
   "source": [
    "In order to counteract gravity:"
   ]
  },
  {
   "cell_type": "markdown",
   "metadata": {},
   "source": [
    "$$\n",
    "\\mathbf F_\\text{mag} = -\\mathbf F_\\text{g} = mg \\hat z\n",
    "$$"
   ]
  },
  {
   "cell_type": "markdown",
   "metadata": {},
   "source": [
    "$$\n",
    "\\frac{\\mu_0 I^2 R}{l} = mg\n",
    "\\longrightarrow\n",
    "I = \\sqrt{\\frac{mgl}{\\mu_0 R}}\n",
    "$$"
   ]
  },
  {
   "cell_type": "markdown",
   "metadata": {},
   "source": [
    "Let's plug in values for everything and calculate the current."
   ]
  },
  {
   "cell_type": "code",
   "execution_count": 1,
   "metadata": {},
   "outputs": [
    {
     "name": "stdout",
     "output_type": "stream",
     "text": [
      "I = 514.9292526076739 A\n"
     ]
    }
   ],
   "source": [
    "import numpy as np\n",
    "\n",
    "m = 0.017   # kg\n",
    "g = 9.8     # m/s^2\n",
    "l = 0.021   # m\n",
    "R = 0.0105  # m\n",
    "mu_0 = 4 * np.pi * 10**(-7)  # N/A^2\n",
    "\n",
    "I = ((m * g * l) / (mu_0 * R))**0.5\n",
    "print(f'I = {I} A')"
   ]
  },
  {
   "cell_type": "markdown",
   "metadata": {},
   "source": [
    "Unless I made a mistake somewhere, to replace the bottom magnet with a current loop and still be able to levitate the top magnet to a similar height, we need a current on the order of at least 500 A. Of course, we don't literally need to pass 500 A through a wire. Remember from Ampere's law that the strength of the magnetic field depends on the total current enclosed by the line integral around the loop current.\n",
    "\n",
    "So we can achieve approximately the same result with a current of $I/n$ if we make a coil with $n$ turns. For instance, it should be possible to use a current of 1 A and a 500-turn coil. However, we'd have to be careful to use a thin enough wire so that all of those turns will fit in a small enough space, and we'd need to make sure that the resistance of such a long and thin wire is not so high that the coil generates enough heat to destroy itself."
   ]
  },
  {
   "cell_type": "markdown",
   "metadata": {},
   "source": [
    "#### Dipole moment approximation for $R \\ll l$\n",
    "\n",
    "The previous approximation only gave a minimum bound for the amount of current we need, and it's also possible that I made a mistake somewhere. So before I invest time into making a coil, I want to also get an upper bound estimate. For this, we assume $R \\ll l$ and approximate the interaction between the two permanent magnets with two dipole moments.\n",
    "\n",
    "To be continued."
   ]
  },
  {
   "cell_type": "markdown",
   "metadata": {},
   "source": []
  }
 ],
 "metadata": {
  "kernelspec": {
   "display_name": "main",
   "language": "python",
   "name": "python3"
  },
  "language_info": {
   "codemirror_mode": {
    "name": "ipython",
    "version": 3
   },
   "file_extension": ".py",
   "mimetype": "text/x-python",
   "name": "python",
   "nbconvert_exporter": "python",
   "pygments_lexer": "ipython3",
   "version": "3.11.3"
  }
 },
 "nbformat": 4,
 "nbformat_minor": 2
}
