{
 "cells": [
  {
   "cell_type": "markdown",
   "metadata": {},
   "source": [
    "#### Problem:\n",
    "\n",
    "Write a function called `included_sets(s)` which includes all of the sets contained within a given set `s`.\n",
    "\n",
    "For instance, given the set `s = {4, 1}`, the output would include the sets `{}, {4}, {1}, {4, 1}`."
   ]
  },
  {
   "cell_type": "markdown",
   "metadata": {},
   "source": [
    "#### Thoughts\n",
    "\n",
    "This problem screams \"use recursion\". To do that, we could have `included_sets()` add the given set to a list, and then interatively call itself on the same set minus one of each of the elements. Append the results of each iteration to the final list. For instance:"
   ]
  },
  {
   "cell_type": "code",
   "execution_count": 48,
   "metadata": {},
   "outputs": [
    {
     "data": {
      "text/plain": [
       "[{1, 4, 9},\n",
       " {4, 9},\n",
       " {9},\n",
       " set(),\n",
       " {4},\n",
       " set(),\n",
       " {1, 9},\n",
       " {9},\n",
       " set(),\n",
       " {1},\n",
       " set(),\n",
       " {1, 4},\n",
       " {4},\n",
       " set(),\n",
       " {1},\n",
       " set()]"
      ]
     },
     "execution_count": 48,
     "metadata": {},
     "output_type": "execute_result"
    }
   ],
   "source": [
    "def included_sets(s):\n",
    "    res = [s]\n",
    "    for e in list(s):\n",
    "        s0 = s.copy()\n",
    "        s0.remove(e)\n",
    "        sets = included_sets(s0)\n",
    "        res = res + sets\n",
    "    return res\n",
    "\n",
    "included_sets({4, 1, 9})"
   ]
  },
  {
   "cell_type": "markdown",
   "metadata": {},
   "source": [
    "The output does indeed include all the sets that it needs to include, but there are a couple problems:\n",
    "\n",
    "* The output contains duplicates.\n",
    "* Functional recursion has too much overhead.\n",
    "\n",
    "Let's solve these problems separately.\n",
    "\n",
    "#### Avoiding duplicates\n",
    "\n",
    "One way to avoid the duplicates is to filter them out of the `res` list at the end of the function. However, the filtering would then happen with each individual call to `included_sets()`. A better idea would be to wrap the first call to the recursive function with a different function that does the filtering at the end, so the filtering only happens one time total. Like so:"
   ]
  },
  {
   "cell_type": "code",
   "execution_count": 72,
   "metadata": {},
   "outputs": [
    {
     "data": {
      "text/plain": [
       "[{1, 4, 9}, {4, 9}, {9}, set(), {4}, {1, 9}, {1}, {1, 4}]"
      ]
     },
     "execution_count": 72,
     "metadata": {},
     "output_type": "execute_result"
    }
   ],
   "source": [
    "def _included_sets(s):\n",
    "    res = [s]\n",
    "    for e in list(s):\n",
    "        s0 = s.copy()\n",
    "        s0.remove(e)\n",
    "        sets = included_sets(s0)\n",
    "        res = res + sets\n",
    "    return res\n",
    "\n",
    "def included_sets(s):\n",
    "    sets = _included_sets(s)\n",
    "    res = []\n",
    "    for s0 in sets:\n",
    "        if s0 not in res:\n",
    "            res.append(s0)\n",
    "    return res\n",
    "\n",
    "included_sets({4, 1, 9})"
   ]
  },
  {
   "cell_type": "markdown",
   "metadata": {},
   "source": [
    "There is also a slightly simpler idea, which is to only use the one recursive function, and to filter out duplicates before adding them to `res` in the first place. Like so:"
   ]
  },
  {
   "cell_type": "code",
   "execution_count": 71,
   "metadata": {},
   "outputs": [
    {
     "data": {
      "text/plain": [
       "[{1, 4, 9}, {4, 9}, {9}, set(), {4}, {1, 9}, {1}, {1, 4}]"
      ]
     },
     "execution_count": 71,
     "metadata": {},
     "output_type": "execute_result"
    }
   ],
   "source": [
    "def included_sets(s):\n",
    "    res = [s]\n",
    "    for e in list(s):\n",
    "        s0 = s.copy()\n",
    "        s0.remove(e)\n",
    "        sets = included_sets(s0)\n",
    "        for s1 in sets:\n",
    "            if s1 not in res:\n",
    "                res.append(s1)\n",
    "    return res\n",
    "\n",
    "included_sets({4, 1, 9})"
   ]
  },
  {
   "cell_type": "markdown",
   "metadata": {},
   "source": [
    "This solution is more memory efficient than the previous one, since it avoids creating any lists that are larger than the final output.\n",
    "\n",
    "However, the performance of both of these solutions is still significantly worse than we can make it. Can we prune some or all of the unnecessary recursive calls before they ever happen, rather than filter their results out later?\n",
    "\n",
    "Consider the call graph for `included_sets(s)`. Each node of the graph has the corresponding value of the argument `s`."
   ]
  },
  {
   "cell_type": "raw",
   "metadata": {
    "vscode": {
     "languageId": "raw"
    }
   },
   "source": [
    "{1, 4, 9}\n",
    "|\n",
    "|-------- --------\n",
    "|        |        |\n",
    "{4, 9}   {1, 9}   {1, 4}\n",
    "|        |        |\n",
    "|---     |---     |---\n",
    "|   |    |   |    |   |\n",
    "{9} {4}  {1} {9}  {1} {4}\n",
    "|   |    |   |    |   |\n",
    "{}  {}   {}  {}   {}  {}"
   ]
  },
  {
   "cell_type": "markdown",
   "metadata": {
    "vscode": {
     "languageId": "raw"
    }
   },
   "source": [
    "Remember that `included_sets()` will execute these calls in depth-first order.\n",
    "\n",
    "Look at each of the three subgraphs branching off from `{1, 4, 9}`--specifially, the subgraphs at root nodes `{4, 9}`, `{1, 9}`, and `{1, 4}`. Each of these subgraphs is three levels deep, and they contain the same number of nodes.\n",
    "\n",
    "Observe that the second subgraph's third level can only contain sets which were included in the first subgraph, the set `{}`. This means that we do not even need to visit the third level of the second subgraph.\n",
    "\n",
    "Similarly, the third subgraph's second and third levels only contain sets which were included in the first two subgraphs, the sets `{}`, `{1}`, and `{4}`. This means that we do not need to visit the second and third level of the third subgraph.\n",
    "\n",
    "We can prune these branches by keeping a `max_depth` variable which gets decremented for each iteration of the outer for-loop of `included_sets()`. `max_depth` will be passed to each recursive call to prevent traversing any deeper after `max_depth` reaches 0."
   ]
  },
  {
   "cell_type": "code",
   "execution_count": 82,
   "metadata": {},
   "outputs": [
    {
     "data": {
      "text/plain": [
       "[{1, 4, 9}, {4, 9}, {9}, set(), {4}, {1, 9}, {9}, {1, 4}]"
      ]
     },
     "execution_count": 82,
     "metadata": {},
     "output_type": "execute_result"
    }
   ],
   "source": [
    "def _included_sets(s, *, max_depth):\n",
    "    res = [s]\n",
    "    for e in list(s):\n",
    "        max_depth -= 1\n",
    "        if max_depth < 0:\n",
    "            break\n",
    "        s0 = s.copy()\n",
    "        s0.remove(e)\n",
    "        sets = _included_sets(s0, max_depth=max_depth)\n",
    "        res = res + sets\n",
    "    return res\n",
    "\n",
    "def included_sets(s):\n",
    "    return _included_sets(s, max_depth=len(s))\n",
    "\n",
    "included_sets({4, 1, 9})"
   ]
  },
  {
   "cell_type": "markdown",
   "metadata": {},
   "source": [
    "Now we're avoiding the duplicates without ever having to iterate through `res` to filter out duplicates."
   ]
  },
  {
   "cell_type": "markdown",
   "metadata": {},
   "source": []
  }
 ],
 "metadata": {
  "kernelspec": {
   "display_name": "main",
   "language": "python",
   "name": "python3"
  },
  "language_info": {
   "codemirror_mode": {
    "name": "ipython",
    "version": 3
   },
   "file_extension": ".py",
   "mimetype": "text/x-python",
   "name": "python",
   "nbconvert_exporter": "python",
   "pygments_lexer": "ipython3",
   "version": "3.11.3"
  }
 },
 "nbformat": 4,
 "nbformat_minor": 2
}
