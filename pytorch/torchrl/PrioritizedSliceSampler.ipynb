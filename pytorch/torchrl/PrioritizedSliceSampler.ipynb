{
 "cells": [
  {
   "cell_type": "markdown",
   "metadata": {},
   "source": [
    "I need to improve the performance of `PrioritizedSliceSampler._padded_indices`. This function is fairly simple. it is given an `arange` tensor (values from 0 to N-1) and another tensor `shapes`, which contains a list of positive integers whose sum is supposed to equal the number of elements in `arange`. The output is supposed to break the `arange` up into groups according to the numbers in `shapes`. If the size of a particular group is smaller than the largest group, it is supposed to be filled with padding values of `-1` at the beginning of its row in the output.\n",
    "\n",
    "For instance, given the following inputs:"
   ]
  },
  {
   "cell_type": "code",
   "execution_count": null,
   "metadata": {},
   "outputs": [],
   "source": [
    "arange = [0, 1, 2, 3, 4, 5, 6, 7]\n",
    "shapes = [[3], [5]]"
   ]
  },
  {
   "cell_type": "markdown",
   "metadata": {},
   "source": [
    "We would expect this output:"
   ]
  },
  {
   "cell_type": "code",
   "execution_count": 1,
   "metadata": {},
   "outputs": [],
   "source": [
    "output = [\n",
    "  [-1, -1, 0, 1, 2],\n",
    "  [ 3,  4, 5, 6, 7]\n",
    "]"
   ]
  },
  {
   "cell_type": "markdown",
   "metadata": {},
   "source": [
    "Notice that the first group has 3 elements (due to `shapes[0, 0] = 3`), which is shorter than the second group of 5 elements (due to `shapes[1, 0] = 5`), so the first `5 - 3 = 2` elements are filled with `-1`."
   ]
  },
  {
   "cell_type": "markdown",
   "metadata": {},
   "source": [
    "I've run all the tests that use `PrioritizedSliceSampler` and printed out the sizes of the inputs to `_padded_indices`. It is only ever called with the sizes `arange: (N,)` and `shapes: (M, 1)`, where `M < N`. `shapes.sum() == arange.numel()` is always true, and the shape of the output is always `(shapes.shape[0], shapes.max())`."
   ]
  },
  {
   "cell_type": "markdown",
   "metadata": {},
   "source": []
  }
 ],
 "metadata": {
  "kernelspec": {
   "display_name": "main",
   "language": "python",
   "name": "python3"
  },
  "language_info": {
   "codemirror_mode": {
    "name": "ipython",
    "version": 3
   },
   "file_extension": ".py",
   "mimetype": "text/x-python",
   "name": "python",
   "nbconvert_exporter": "python",
   "pygments_lexer": "ipython3",
   "version": "3.11.3"
  }
 },
 "nbformat": 4,
 "nbformat_minor": 2
}
