{
 "cells": [
  {
   "cell_type": "code",
   "execution_count": 1,
   "metadata": {},
   "outputs": [
    {
     "name": "stderr",
     "output_type": "stream",
     "text": [
      "/home/endoplasm/miniconda/envs/torchrl-0/lib/python3.11/site-packages/tqdm/auto.py:21: TqdmWarning: IProgress not found. Please update jupyter and ipywidgets. See https://ipywidgets.readthedocs.io/en/stable/user_install.html\n",
      "  from .autonotebook import tqdm as notebook_tqdm\n",
      "/home/endoplasm/miniconda/envs/torchrl-0/lib/python3.11/site-packages/torchvision/transforms/_functional_pil.py:242: DeprecationWarning: BILINEAR is deprecated and will be removed in Pillow 10 (2023-07-01). Use Resampling.BILINEAR instead.\n",
      "  interpolation: int = Image.BILINEAR,\n",
      "/home/endoplasm/miniconda/envs/torchrl-0/lib/python3.11/site-packages/torchvision/transforms/_functional_pil.py:288: DeprecationWarning: NEAREST is deprecated and will be removed in Pillow 10 (2023-07-01). Use Resampling.NEAREST or Dither.NONE instead.\n",
      "  interpolation: int = Image.NEAREST,\n",
      "/home/endoplasm/miniconda/envs/torchrl-0/lib/python3.11/site-packages/torchvision/transforms/_functional_pil.py:321: DeprecationWarning: BICUBIC is deprecated and will be removed in Pillow 10 (2023-07-01). Use Resampling.BICUBIC instead.\n",
      "  interpolation: int = Image.BICUBIC,\n"
     ]
    }
   ],
   "source": [
    "import argparse\n",
    "\n",
    "import torch\n",
    "import tqdm\n",
    "from tensordict import NonTensorStack, TensorDict\n",
    "from tensordict.nn import (\n",
    "    ProbabilisticTensorDictModule as Prob,\n",
    "    TensorDictModule as Mod,\n",
    "    TensorDictSequential as Seq,\n",
    ")\n",
    "from torch.distributions import Categorical\n",
    "\n",
    "from torchrl._utils import _make_ordinal_device\n",
    "from torchrl.data import MCTSForest\n",
    "\n",
    "from torchrl.envs import LLMHashingEnv\n",
    "from transformers import GPT2Config, GPT2LMHeadModel, GPT2Tokenizer, pipeline\n",
    "\n",
    "try:\n",
    "    is_sphinx = __sphinx_build__\n",
    "except NameError:\n",
    "    is_sphinx = False\n",
    "\n",
    "parser = argparse.ArgumentParser()\n",
    "parser.add_argument(\n",
    "    \"--pretrained\",\n",
    "    type=bool,\n",
    "    default=not is_sphinx,\n",
    "    help=\"Set to True to load pre-trained weights, False for random weights.\",\n",
    ")\n",
    "parser.add_argument(\n",
    "    \"--model\",\n",
    "    choices=[\"llama3.1\", \"gpt2\"],\n",
    "    default=\"gpt2\",\n",
    "    help=\"Choose the model to use: 'llama3.1' or 'gpt2'.\",\n",
    ")\n",
    "parser.add_argument(\n",
    "    \"--beta\", type=int, default=3, help=\"Set the beta parameter for the model.\"\n",
    ")\n",
    "parser.add_argument(\n",
    "    \"--pool\", type=int, default=1000, help=\"Set the pool size for processing.\"\n",
    ")\n",
    "parser.add_argument(\n",
    "    \"--nsteps\", type=int, default=10, help=\"Set the number of steps for the process.\"\n",
    ")\n",
    "parser.add_argument(\n",
    "    \"--device\",\n",
    "    type=str,\n",
    "    default=None,\n",
    "    help=\"Specify the device to use (e.g., 'cpu', 'cuda').\",\n",
    ")\n",
    "parser.add_argument(\n",
    "    \"--device_map\",\n",
    "    type=str,\n",
    "    default=\"auto\",\n",
    "    help=\"Specify the device map for model parallelism (e.g., 'auto').\",\n",
    ")\n",
    "\n",
    "args = parser.parse_args(\n",
    "    [\n",
    "        # When executing this in a notebook, change the parameters here, eg\n",
    "        #\"--device\", \"cuda:0\"\n",
    "        \"--device\", \"cpu\",\n",
    "        #\"--model\", \"llama3.1\",\n",
    "\n",
    "    ]\n",
    ")"
   ]
  },
  {
   "cell_type": "code",
   "execution_count": 2,
   "metadata": {},
   "outputs": [
    {
     "name": "stdout",
     "output_type": "stream",
     "text": [
      "TensorDict(\n",
      "    fields={\n",
      "        observation: Tensor(shape=torch.Size([4, 8]), device=cpu, dtype=torch.int64, is_shared=False),\n",
      "        query: NonTensorStack(\n",
      "            ['hello world! Give me a high five', 'hello world!...,\n",
      "            batch_size=torch.Size([4]),\n",
      "            device=None)},\n",
      "    batch_size=torch.Size([4]),\n",
      "    device=None,\n",
      "    is_shared=False)\n"
     ]
    }
   ],
   "source": [
    "if args.model == \"gpt2\":\n",
    "    tokenizer = GPT2Tokenizer.from_pretrained(\"openai-community/gpt2\")\n",
    "    if args.pretrained:\n",
    "        cfg = GPT2Config.from_pretrained(\"openai-community/gpt2\")\n",
    "    else:\n",
    "        cfg = GPT2Config()\n",
    "    llm = GPT2LMHeadModel(cfg).eval().requires_grad_(False)\n",
    "\n",
    "    device = args.device\n",
    "\n",
    "    #if torch.cuda.is_available():\n",
    "    #    device = \"cuda:0\"\n",
    "    #else:\n",
    "    #    device = \"cpu\"\n",
    "\n",
    "elif args.model == \"llama3.1\":\n",
    "    if not args.pretrained:\n",
    "        raise ValueError(\"llama3.1 can only be used with --pretrained=True\")\n",
    "\n",
    "    model_id = \"meta-llama/Llama-3.1-8B\"\n",
    "\n",
    "    if args.device:\n",
    "        args.device_map = None\n",
    "    pipeline = pipeline(\n",
    "        \"text-generation\",\n",
    "        model=model_id,\n",
    "        model_kwargs={\"torch_dtype\": torch.bfloat16},\n",
    "        device_map=args.device_map,\n",
    "        device=args.device,\n",
    "    )\n",
    "\n",
    "    tokenizer = pipeline.tokenizer\n",
    "    llm = pipeline.model.eval().requires_grad_(False)\n",
    "    if args.device:\n",
    "        device = _make_ordinal_device(args.device)\n",
    "    elif torch.cuda.is_available():\n",
    "        device = \"cuda:0\"\n",
    "    elif torch.mps.is_available():\n",
    "        torch.mps.empty_cache()\n",
    "        device = \"mps:0\"\n",
    "    else:\n",
    "        device = \"cpu\"\n",
    "\n",
    "torch.set_default_device(device)\n",
    "\n",
    "text_to_tensor = Seq(\n",
    "    Mod(tokenizer, in_keys=[\"query\"], out_keys=[\"out\"]),\n",
    "    # A renaming layer\n",
    "    Mod(lambda x: x, in_keys=[(\"out\", \"input_ids\")], out_keys=[\"observation\"]),\n",
    ").select_out_keys(\"observation\")\n",
    "td = TensorDict(\n",
    "    query=NonTensorStack.from_list([\"hello world! Give me a high five\"] * 4),\n",
    "    #query=NonTensorStack.from_list([\n",
    "    #    \"hello world! Give me a high five\",\n",
    "    #    \"What's up?\",\n",
    "    #    \"How's it going?\",\n",
    "    #    \"I'm awake.\"\n",
    "    #]),\n",
    "    batch_size=[4],\n",
    ")\n",
    "print(text_to_tensor(td))"
   ]
  },
  {
   "cell_type": "code",
   "execution_count": 3,
   "metadata": {},
   "outputs": [],
   "source": [
    "env = LLMHashingEnv(vocab_size=tokenizer.vocab_size, tokenizer=tokenizer)"
   ]
  },
  {
   "cell_type": "code",
   "execution_count": 4,
   "metadata": {},
   "outputs": [],
   "source": [
    "def select_unique_obs(td):\n",
    "    # Get the obs (the hash)\n",
    "    hashes = td[\"hashing\"]\n",
    "    hashes = hashes.squeeze()\n",
    "    assert hashes.ndim == 1\n",
    "    # the indices of the unique values are the unique values of the inverse indices returned from `unique`\n",
    "    _, unique_hashes = torch.unique(hashes, dim=0, return_inverse=True)\n",
    "    unique_hashes = unique_hashes.unique()\n",
    "    return td[unique_hashes]"
   ]
  },
  {
   "cell_type": "code",
   "execution_count": 5,
   "metadata": {},
   "outputs": [],
   "source": [
    "class LLMWrapper(torch.nn.Module):\n",
    "    def __init__(self, gpt):\n",
    "        super().__init__()\n",
    "        self.gpt = gpt\n",
    "\n",
    "    def forward(self, x: torch.Tensor) -> TensorDict:\n",
    "        result = TensorDict.from_dataclass(self.gpt(x, return_dict=True), device=device)\n",
    "        return result\n",
    "\n",
    "\n",
    "llm_module = Mod(LLMWrapper(llm), in_keys=[\"observation\"], out_keys=[\"data\"])"
   ]
  },
  {
   "cell_type": "code",
   "execution_count": 6,
   "metadata": {},
   "outputs": [],
   "source": [
    "select_last = Mod(\n",
    "    lambda x: x[:, -1:], in_keys=[(\"data\", \"logits\")], out_keys=[\"logits\"]\n",
    ")"
   ]
  },
  {
   "cell_type": "code",
   "execution_count": 7,
   "metadata": {},
   "outputs": [],
   "source": [
    "class CategoricalWithoutReplacement(Categorical):\n",
    "    def sample(self, sample_shape=()) -> torch.Tensor:\n",
    "        n = sample_shape.numel()\n",
    "        probs = self.probs\n",
    "        probs_shape = probs.shape\n",
    "        if len(probs_shape) > 2:\n",
    "            probs = probs.flatten(0, -2)\n",
    "        samples = torch.multinomial(probs, n, replacement=False)\n",
    "        return samples.view((*sample_shape, *probs_shape[:-1]))\n",
    "\n",
    "\n",
    "prob_module = Prob(\n",
    "    in_keys=[\"logits\"],\n",
    "    out_keys=[\"action\"],\n",
    "    default_interaction_type=\"random\",\n",
    "    distribution_class=CategoricalWithoutReplacement,\n",
    "    return_log_prob=True,\n",
    "    log_prob_key=\"logits_select\",\n",
    "    num_samples=args.pool,\n",
    ")"
   ]
  },
  {
   "cell_type": "code",
   "execution_count": 8,
   "metadata": {},
   "outputs": [],
   "source": [
    "def select_top_k(td: TensorDict, top_k=args.beta) -> TensorDict:\n",
    "    logits = td[\"logits_select\"]\n",
    "    topk = logits.topk(top_k, dim=0)\n",
    "    topk_indices = topk.indices.squeeze(-1)\n",
    "    return td[topk_indices].set(\"topk_indices\", topk_indices)"
   ]
  },
  {
   "cell_type": "code",
   "execution_count": 9,
   "metadata": {},
   "outputs": [],
   "source": [
    "policy = Seq(\n",
    "    # Only get the unique obs\n",
    "    select_unique_obs,\n",
    "    # Call to the LLM\n",
    "    llm_module,\n",
    "    # Select last logit\n",
    "    select_last,\n",
    "    # Sample\n",
    "    prob_module,\n",
    "    # Reshape to -1\n",
    "    lambda td: td.reshape(-1),\n",
    "    # Top-k\n",
    "    select_top_k,\n",
    ")"
   ]
  },
  {
   "cell_type": "code",
   "execution_count": 10,
   "metadata": {},
   "outputs": [
    {
     "name": "stderr",
     "output_type": "stream",
     "text": [
      "2025-01-13 15:07:57,648 [torchrl][INFO] check_env_specs succeeded!\n"
     ]
    }
   ],
   "source": [
    "x = tokenizer([\"Check out TorchRL!\"])[\"input_ids\"]\n",
    "td = TensorDict(observation=x, batch_size=[1])\n",
    "td = env.reset(td)\n",
    "env.check_env_specs(tensordict=td, return_contiguous=False)"
   ]
  },
  {
   "cell_type": "code",
   "execution_count": 11,
   "metadata": {},
   "outputs": [],
   "source": [
    "forest = MCTSForest(observation_keys=[\"hashing\"], action_keys=[\"action\", \"logits_select\"])"
   ]
  },
  {
   "cell_type": "code",
   "execution_count": 13,
   "metadata": {},
   "outputs": [
    {
     "name": "stderr",
     "output_type": "stream",
     "text": [
      "Forest length: 33:  10%|█         | 1/10 [00:00<00:00,  9.33it/s]"
     ]
    },
    {
     "name": "stdout",
     "output_type": "stream",
     "text": [
      "action tensor([[  220],\n",
      "        [33125],\n",
      "        [46308]])\n",
      "hash tensor([[-4556944625400516864],\n",
      "        [ -808573244379598300],\n",
      "        [ 2737375120620791417]])\n"
     ]
    },
    {
     "name": "stderr",
     "output_type": "stream",
     "text": [
      "Forest length: 36:  20%|██        | 2/10 [00:01<00:07,  1.14it/s]"
     ]
    },
    {
     "name": "stdout",
     "output_type": "stream",
     "text": [
      "action tensor([[33125],\n",
      "        [ 7570],\n",
      "        [15401]])\n",
      "hash tensor([[-3712056468678266966],\n",
      "        [-4678643172556498879],\n",
      "        [ 3301479647910938983]])\n"
     ]
    },
    {
     "name": "stderr",
     "output_type": "stream",
     "text": [
      "Forest length: 39:  30%|███       | 3/10 [00:03<00:08,  1.23s/it]"
     ]
    },
    {
     "name": "stdout",
     "output_type": "stream",
     "text": [
      "action tensor([[15401],\n",
      "        [ 7570],\n",
      "        [15401]])\n",
      "hash tensor([[8862343678105057667],\n",
      "        [5446914216984854687],\n",
      "        [3855610188286197921]])\n"
     ]
    },
    {
     "name": "stderr",
     "output_type": "stream",
     "text": [
      "Forest length: 42:  40%|████      | 4/10 [00:05<00:09,  1.61s/it]"
     ]
    },
    {
     "name": "stdout",
     "output_type": "stream",
     "text": [
      "action tensor([[15401],\n",
      "        [15401],\n",
      "        [ 1100]])\n",
      "hash tensor([[ 8101390298399478270],\n",
      "        [ 8692009458689120094],\n",
      "        [-4192349278742540019]])\n"
     ]
    },
    {
     "name": "stderr",
     "output_type": "stream",
     "text": [
      "Forest length: 45:  50%|█████     | 5/10 [00:11<00:16,  3.23s/it]"
     ]
    },
    {
     "name": "stdout",
     "output_type": "stream",
     "text": [
      "action tensor([[ 1100],\n",
      "        [27449],\n",
      "        [15008]])\n",
      "hash tensor([[-5933794507642788476],\n",
      "        [-2123644125514036229],\n",
      "        [ 7528370810698822507]])\n"
     ]
    },
    {
     "name": "stderr",
     "output_type": "stream",
     "text": [
      "Forest length: 48:  60%|██████    | 6/10 [00:18<00:17,  4.48s/it]"
     ]
    },
    {
     "name": "stdout",
     "output_type": "stream",
     "text": [
      "action tensor([[33922],\n",
      "        [ 7570],\n",
      "        [15401]])\n",
      "hash tensor([[-8111050819451086459],\n",
      "        [-7452106307813998861],\n",
      "        [ 4144126010748071399]])\n"
     ]
    },
    {
     "name": "stderr",
     "output_type": "stream",
     "text": [
      "Forest length: 51:  70%|███████   | 7/10 [00:25<00:15,  5.22s/it]"
     ]
    },
    {
     "name": "stdout",
     "output_type": "stream",
     "text": [
      "action tensor([[22653],\n",
      "        [45894],\n",
      "        [35143]])\n",
      "hash tensor([[7901103242211363821],\n",
      "        [4675350937355286155],\n",
      "        [ -11016180407394597]])\n"
     ]
    },
    {
     "name": "stderr",
     "output_type": "stream",
     "text": [
      "Forest length: 54:  80%|████████  | 8/10 [00:34<00:12,  6.39s/it]"
     ]
    },
    {
     "name": "stdout",
     "output_type": "stream",
     "text": [
      "action tensor([[35143],\n",
      "        [33922],\n",
      "        [33346]])\n",
      "hash tensor([[-1392948906077328681],\n",
      "        [ 7433371700422540310],\n",
      "        [ 5673736469984173128]])\n"
     ]
    },
    {
     "name": "stderr",
     "output_type": "stream",
     "text": [
      "Forest length: 57:  90%|█████████ | 9/10 [00:43<00:07,  7.42s/it]"
     ]
    },
    {
     "name": "stdout",
     "output_type": "stream",
     "text": [
      "action tensor([[33922],\n",
      "        [ 7995],\n",
      "        [ 7995]])\n",
      "hash tensor([[-9076204173052785009],\n",
      "        [ 3471902211221434652],\n",
      "        [ 3471902211221434652]])\n"
     ]
    },
    {
     "name": "stderr",
     "output_type": "stream",
     "text": [
      "Forest length: 60: 100%|██████████| 10/10 [00:46<00:00,  4.61s/it]"
     ]
    },
    {
     "name": "stdout",
     "output_type": "stream",
     "text": [
      "action tensor([[33922],\n",
      "        [23229],\n",
      "        [16838]])\n",
      "hash tensor([[5745392113208399321],\n",
      "        [5711735439505919670],\n",
      "        [8769517905672612937]])\n",
      "The reason I ate the apple was  circus Soviet Budget Budget freelance Soviet Grade Shuttle postponed postponed\n",
      "The reason I ate the apple was  circus Soviet Budget Budget freelance Soviet Grade Shuttle postponed hostage\n",
      "The reason I ate the apple was  circus Soviet Budget Budget freelance Budget ShuttleGPU alertpleted\n",
      "valid paths [(0,), (2,), (1, 0), (1, 1, 1), (1, 2, 0), (1, 2, 1), (1, 1, 0, 1), (1, 1, 0, 0, 0), (1, 1, 0, 0, 1, 1), (1, 1, 0, 0, 2, 0), (1, 1, 0, 0, 2, 1), (1, 1, 0, 0, 1, 0, 0), (1, 1, 0, 0, 1, 0, 1)]\n",
      "The reason I ate the apple was   \n",
      "tensor(-8.8272)\n",
      "The reason I ate the apple was   Powerful\n",
      "tensor(-8.9823)\n",
      "The reason I ate the apple was   circus circus\n",
      "tensor(-17.0512)\n",
      "The reason I ate the apple was   circus Soviet Budget read read\n",
      "tensor(-43.6607)\n",
      "The reason I ate the apple was   circus Budget Budget\n",
      "tensor(-25.2640)\n",
      "The reason I ate the apple was   circus Budget Soviet Budget\n",
      "tensor(-34.6536)\n",
      "The reason I ate the apple was   circus Soviet Budget Budgetrespect\n",
      "tensor(-42.7199)\n",
      "The reason I ate the apple was   circus Soviet Budget Budget freelance postponed\n",
      "tensor(-51.2500)\n",
      "The reason I ate the apple was   circus Soviet Budget Budget freelance Soviet Grade postponed\n",
      "tensor(-68.9071)\n",
      "The reason I ate the apple was   circus Soviet Budget Budget freelance Budget arteries\n",
      "tensor(-60.3018)\n",
      "The reason I ate the apple was   circus Soviet Budget Budget freelance Budget ShuttleGPU alertpleted\n",
      "tensor(-87.2651)\n",
      "The reason I ate the apple was   circus Soviet Budget Budget freelance Soviet Grade Shuttle postponed postponed\n",
      "tensor(-85.3156)\n",
      "The reason I ate the apple was   circus Soviet Budget Budget freelance Soviet Grade Shuttle postponed hostage\n",
      "tensor(-85.9121)\n"
     ]
    },
    {
     "name": "stderr",
     "output_type": "stream",
     "text": [
      "\n"
     ]
    },
    {
     "data": {
      "application/vnd.plotly.v1+json": {
       "config": {
        "plotlyServerURL": "https://plot.ly"
       },
       "data": [
        {
         "hoverinfo": "none",
         "line": {
          "color": "rgb(210,210,210)",
          "width": 5
         },
         "mode": "lines",
         "type": "scatter",
         "x": [
          -2.5,
          -2,
          null,
          -2.5,
          -1.5,
          null,
          -2.5,
          2,
          null,
          -1.5,
          -2,
          null,
          -1.5,
          -1,
          null,
          -1.5,
          1,
          null,
          -1,
          1,
          null,
          -1,
          -2.5,
          null,
          1,
          0,
          null,
          1,
          1,
          null,
          1,
          -1,
          null,
          1,
          3.5,
          null,
          -1,
          -1.5,
          null,
          -1,
          -0.5,
          null,
          -1,
          2.5,
          null,
          -0.5,
          1.5,
          null,
          -0.5,
          -2,
          null,
          2.5,
          0.5,
          null,
          2.5,
          1.5,
          null,
          1.5,
          -0.5,
          null,
          1.5,
          2.5,
          null
         ],
         "y": [
          0,
          1,
          null,
          0,
          2,
          null,
          0,
          3,
          null,
          2,
          4,
          null,
          2,
          5,
          null,
          2,
          6,
          null,
          5,
          7,
          null,
          5,
          8,
          null,
          6,
          9,
          null,
          6,
          10,
          null,
          7,
          11,
          null,
          7,
          12,
          null,
          11,
          13,
          null,
          11,
          14,
          null,
          11,
          15,
          null,
          14,
          16,
          null,
          14,
          17,
          null,
          15,
          18,
          null,
          15,
          19,
          null,
          16,
          20,
          null,
          16,
          21,
          null
         ]
        },
        {
         "hoverinfo": "text",
         "marker": {
          "color": "#6175c1",
          "line": {
           "color": "rgb(50,50,50)",
           "width": 1
          },
          "size": 40,
          "symbol": "circle-dot"
         },
         "mode": "markers+text",
         "name": "bla",
         "opacity": 0.8,
         "text": [
          "The reason I ate the apple was ",
          "The reason I ate the apple was  ",
          "The reason I ate the apple was  circus",
          "The reason I ate the apple was  Powerful",
          "The reason I ate the apple was  circus circus",
          "The reason I ate the apple was  circus Soviet Budget",
          "The reason I ate the apple was  circus Budget",
          "The reason I ate the apple was  circus Soviet Budget Budget",
          "The reason I ate the apple was  circus Soviet Budget read read",
          "The reason I ate the apple was  circus Budget Budget",
          "The reason I ate the apple was  circus Budget Soviet Budget",
          "The reason I ate the apple was  circus Soviet Budget Budget freelance",
          "The reason I ate the apple was  circus Soviet Budget Budgetrespect",
          "The reason I ate the apple was  circus Soviet Budget Budget freelance postponed",
          "The reason I ate the apple was  circus Soviet Budget Budget freelance Soviet Grade",
          "The reason I ate the apple was  circus Soviet Budget Budget freelance Budget",
          "The reason I ate the apple was  circus Soviet Budget Budget freelance Soviet Grade Shuttle postponed",
          "The reason I ate the apple was  circus Soviet Budget Budget freelance Soviet Grade postponed",
          "The reason I ate the apple was  circus Soviet Budget Budget freelance Budget arteries",
          "The reason I ate the apple was  circus Soviet Budget Budget freelance Budget ShuttleGPU alertpleted",
          "The reason I ate the apple was  circus Soviet Budget Budget freelance Soviet Grade Shuttle postponed postponed",
          "The reason I ate the apple was  circus Soviet Budget Budget freelance Soviet Grade Shuttle postponed hostage"
         ],
         "textposition": "middle right",
         "type": "scatter",
         "x": [
          -2.5,
          -2,
          -1.5,
          2,
          -2,
          -1,
          1,
          1,
          -2.5,
          0,
          1,
          -1,
          3.5,
          -1.5,
          -0.5,
          2.5,
          1.5,
          -2,
          0.5,
          1.5,
          -0.5,
          2.5
         ],
         "y": [
          0,
          1,
          2,
          3,
          4,
          5,
          6,
          7,
          8,
          9,
          10,
          11,
          12,
          13,
          14,
          15,
          16,
          17,
          18,
          19,
          20,
          21
         ]
        }
       ],
       "layout": {
        "template": {
         "data": {
          "bar": [
           {
            "error_x": {
             "color": "#2a3f5f"
            },
            "error_y": {
             "color": "#2a3f5f"
            },
            "marker": {
             "line": {
              "color": "#E5ECF6",
              "width": 0.5
             },
             "pattern": {
              "fillmode": "overlay",
              "size": 10,
              "solidity": 0.2
             }
            },
            "type": "bar"
           }
          ],
          "barpolar": [
           {
            "marker": {
             "line": {
              "color": "#E5ECF6",
              "width": 0.5
             },
             "pattern": {
              "fillmode": "overlay",
              "size": 10,
              "solidity": 0.2
             }
            },
            "type": "barpolar"
           }
          ],
          "carpet": [
           {
            "aaxis": {
             "endlinecolor": "#2a3f5f",
             "gridcolor": "white",
             "linecolor": "white",
             "minorgridcolor": "white",
             "startlinecolor": "#2a3f5f"
            },
            "baxis": {
             "endlinecolor": "#2a3f5f",
             "gridcolor": "white",
             "linecolor": "white",
             "minorgridcolor": "white",
             "startlinecolor": "#2a3f5f"
            },
            "type": "carpet"
           }
          ],
          "choropleth": [
           {
            "colorbar": {
             "outlinewidth": 0,
             "ticks": ""
            },
            "type": "choropleth"
           }
          ],
          "contour": [
           {
            "colorbar": {
             "outlinewidth": 0,
             "ticks": ""
            },
            "colorscale": [
             [
              0,
              "#0d0887"
             ],
             [
              0.1111111111111111,
              "#46039f"
             ],
             [
              0.2222222222222222,
              "#7201a8"
             ],
             [
              0.3333333333333333,
              "#9c179e"
             ],
             [
              0.4444444444444444,
              "#bd3786"
             ],
             [
              0.5555555555555556,
              "#d8576b"
             ],
             [
              0.6666666666666666,
              "#ed7953"
             ],
             [
              0.7777777777777778,
              "#fb9f3a"
             ],
             [
              0.8888888888888888,
              "#fdca26"
             ],
             [
              1,
              "#f0f921"
             ]
            ],
            "type": "contour"
           }
          ],
          "contourcarpet": [
           {
            "colorbar": {
             "outlinewidth": 0,
             "ticks": ""
            },
            "type": "contourcarpet"
           }
          ],
          "heatmap": [
           {
            "colorbar": {
             "outlinewidth": 0,
             "ticks": ""
            },
            "colorscale": [
             [
              0,
              "#0d0887"
             ],
             [
              0.1111111111111111,
              "#46039f"
             ],
             [
              0.2222222222222222,
              "#7201a8"
             ],
             [
              0.3333333333333333,
              "#9c179e"
             ],
             [
              0.4444444444444444,
              "#bd3786"
             ],
             [
              0.5555555555555556,
              "#d8576b"
             ],
             [
              0.6666666666666666,
              "#ed7953"
             ],
             [
              0.7777777777777778,
              "#fb9f3a"
             ],
             [
              0.8888888888888888,
              "#fdca26"
             ],
             [
              1,
              "#f0f921"
             ]
            ],
            "type": "heatmap"
           }
          ],
          "heatmapgl": [
           {
            "colorbar": {
             "outlinewidth": 0,
             "ticks": ""
            },
            "colorscale": [
             [
              0,
              "#0d0887"
             ],
             [
              0.1111111111111111,
              "#46039f"
             ],
             [
              0.2222222222222222,
              "#7201a8"
             ],
             [
              0.3333333333333333,
              "#9c179e"
             ],
             [
              0.4444444444444444,
              "#bd3786"
             ],
             [
              0.5555555555555556,
              "#d8576b"
             ],
             [
              0.6666666666666666,
              "#ed7953"
             ],
             [
              0.7777777777777778,
              "#fb9f3a"
             ],
             [
              0.8888888888888888,
              "#fdca26"
             ],
             [
              1,
              "#f0f921"
             ]
            ],
            "type": "heatmapgl"
           }
          ],
          "histogram": [
           {
            "marker": {
             "pattern": {
              "fillmode": "overlay",
              "size": 10,
              "solidity": 0.2
             }
            },
            "type": "histogram"
           }
          ],
          "histogram2d": [
           {
            "colorbar": {
             "outlinewidth": 0,
             "ticks": ""
            },
            "colorscale": [
             [
              0,
              "#0d0887"
             ],
             [
              0.1111111111111111,
              "#46039f"
             ],
             [
              0.2222222222222222,
              "#7201a8"
             ],
             [
              0.3333333333333333,
              "#9c179e"
             ],
             [
              0.4444444444444444,
              "#bd3786"
             ],
             [
              0.5555555555555556,
              "#d8576b"
             ],
             [
              0.6666666666666666,
              "#ed7953"
             ],
             [
              0.7777777777777778,
              "#fb9f3a"
             ],
             [
              0.8888888888888888,
              "#fdca26"
             ],
             [
              1,
              "#f0f921"
             ]
            ],
            "type": "histogram2d"
           }
          ],
          "histogram2dcontour": [
           {
            "colorbar": {
             "outlinewidth": 0,
             "ticks": ""
            },
            "colorscale": [
             [
              0,
              "#0d0887"
             ],
             [
              0.1111111111111111,
              "#46039f"
             ],
             [
              0.2222222222222222,
              "#7201a8"
             ],
             [
              0.3333333333333333,
              "#9c179e"
             ],
             [
              0.4444444444444444,
              "#bd3786"
             ],
             [
              0.5555555555555556,
              "#d8576b"
             ],
             [
              0.6666666666666666,
              "#ed7953"
             ],
             [
              0.7777777777777778,
              "#fb9f3a"
             ],
             [
              0.8888888888888888,
              "#fdca26"
             ],
             [
              1,
              "#f0f921"
             ]
            ],
            "type": "histogram2dcontour"
           }
          ],
          "mesh3d": [
           {
            "colorbar": {
             "outlinewidth": 0,
             "ticks": ""
            },
            "type": "mesh3d"
           }
          ],
          "parcoords": [
           {
            "line": {
             "colorbar": {
              "outlinewidth": 0,
              "ticks": ""
             }
            },
            "type": "parcoords"
           }
          ],
          "pie": [
           {
            "automargin": true,
            "type": "pie"
           }
          ],
          "scatter": [
           {
            "fillpattern": {
             "fillmode": "overlay",
             "size": 10,
             "solidity": 0.2
            },
            "type": "scatter"
           }
          ],
          "scatter3d": [
           {
            "line": {
             "colorbar": {
              "outlinewidth": 0,
              "ticks": ""
             }
            },
            "marker": {
             "colorbar": {
              "outlinewidth": 0,
              "ticks": ""
             }
            },
            "type": "scatter3d"
           }
          ],
          "scattercarpet": [
           {
            "marker": {
             "colorbar": {
              "outlinewidth": 0,
              "ticks": ""
             }
            },
            "type": "scattercarpet"
           }
          ],
          "scattergeo": [
           {
            "marker": {
             "colorbar": {
              "outlinewidth": 0,
              "ticks": ""
             }
            },
            "type": "scattergeo"
           }
          ],
          "scattergl": [
           {
            "marker": {
             "colorbar": {
              "outlinewidth": 0,
              "ticks": ""
             }
            },
            "type": "scattergl"
           }
          ],
          "scattermapbox": [
           {
            "marker": {
             "colorbar": {
              "outlinewidth": 0,
              "ticks": ""
             }
            },
            "type": "scattermapbox"
           }
          ],
          "scatterpolar": [
           {
            "marker": {
             "colorbar": {
              "outlinewidth": 0,
              "ticks": ""
             }
            },
            "type": "scatterpolar"
           }
          ],
          "scatterpolargl": [
           {
            "marker": {
             "colorbar": {
              "outlinewidth": 0,
              "ticks": ""
             }
            },
            "type": "scatterpolargl"
           }
          ],
          "scatterternary": [
           {
            "marker": {
             "colorbar": {
              "outlinewidth": 0,
              "ticks": ""
             }
            },
            "type": "scatterternary"
           }
          ],
          "surface": [
           {
            "colorbar": {
             "outlinewidth": 0,
             "ticks": ""
            },
            "colorscale": [
             [
              0,
              "#0d0887"
             ],
             [
              0.1111111111111111,
              "#46039f"
             ],
             [
              0.2222222222222222,
              "#7201a8"
             ],
             [
              0.3333333333333333,
              "#9c179e"
             ],
             [
              0.4444444444444444,
              "#bd3786"
             ],
             [
              0.5555555555555556,
              "#d8576b"
             ],
             [
              0.6666666666666666,
              "#ed7953"
             ],
             [
              0.7777777777777778,
              "#fb9f3a"
             ],
             [
              0.8888888888888888,
              "#fdca26"
             ],
             [
              1,
              "#f0f921"
             ]
            ],
            "type": "surface"
           }
          ],
          "table": [
           {
            "cells": {
             "fill": {
              "color": "#EBF0F8"
             },
             "line": {
              "color": "white"
             }
            },
            "header": {
             "fill": {
              "color": "#C8D4E3"
             },
             "line": {
              "color": "white"
             }
            },
            "type": "table"
           }
          ]
         },
         "layout": {
          "annotationdefaults": {
           "arrowcolor": "#2a3f5f",
           "arrowhead": 0,
           "arrowwidth": 1
          },
          "autotypenumbers": "strict",
          "coloraxis": {
           "colorbar": {
            "outlinewidth": 0,
            "ticks": ""
           }
          },
          "colorscale": {
           "diverging": [
            [
             0,
             "#8e0152"
            ],
            [
             0.1,
             "#c51b7d"
            ],
            [
             0.2,
             "#de77ae"
            ],
            [
             0.3,
             "#f1b6da"
            ],
            [
             0.4,
             "#fde0ef"
            ],
            [
             0.5,
             "#f7f7f7"
            ],
            [
             0.6,
             "#e6f5d0"
            ],
            [
             0.7,
             "#b8e186"
            ],
            [
             0.8,
             "#7fbc41"
            ],
            [
             0.9,
             "#4d9221"
            ],
            [
             1,
             "#276419"
            ]
           ],
           "sequential": [
            [
             0,
             "#0d0887"
            ],
            [
             0.1111111111111111,
             "#46039f"
            ],
            [
             0.2222222222222222,
             "#7201a8"
            ],
            [
             0.3333333333333333,
             "#9c179e"
            ],
            [
             0.4444444444444444,
             "#bd3786"
            ],
            [
             0.5555555555555556,
             "#d8576b"
            ],
            [
             0.6666666666666666,
             "#ed7953"
            ],
            [
             0.7777777777777778,
             "#fb9f3a"
            ],
            [
             0.8888888888888888,
             "#fdca26"
            ],
            [
             1,
             "#f0f921"
            ]
           ],
           "sequentialminus": [
            [
             0,
             "#0d0887"
            ],
            [
             0.1111111111111111,
             "#46039f"
            ],
            [
             0.2222222222222222,
             "#7201a8"
            ],
            [
             0.3333333333333333,
             "#9c179e"
            ],
            [
             0.4444444444444444,
             "#bd3786"
            ],
            [
             0.5555555555555556,
             "#d8576b"
            ],
            [
             0.6666666666666666,
             "#ed7953"
            ],
            [
             0.7777777777777778,
             "#fb9f3a"
            ],
            [
             0.8888888888888888,
             "#fdca26"
            ],
            [
             1,
             "#f0f921"
            ]
           ]
          },
          "colorway": [
           "#636efa",
           "#EF553B",
           "#00cc96",
           "#ab63fa",
           "#FFA15A",
           "#19d3f3",
           "#FF6692",
           "#B6E880",
           "#FF97FF",
           "#FECB52"
          ],
          "font": {
           "color": "#2a3f5f"
          },
          "geo": {
           "bgcolor": "white",
           "lakecolor": "white",
           "landcolor": "#E5ECF6",
           "showlakes": true,
           "showland": true,
           "subunitcolor": "white"
          },
          "hoverlabel": {
           "align": "left"
          },
          "hovermode": "closest",
          "mapbox": {
           "style": "light"
          },
          "paper_bgcolor": "white",
          "plot_bgcolor": "#E5ECF6",
          "polar": {
           "angularaxis": {
            "gridcolor": "white",
            "linecolor": "white",
            "ticks": ""
           },
           "bgcolor": "#E5ECF6",
           "radialaxis": {
            "gridcolor": "white",
            "linecolor": "white",
            "ticks": ""
           }
          },
          "scene": {
           "xaxis": {
            "backgroundcolor": "#E5ECF6",
            "gridcolor": "white",
            "gridwidth": 2,
            "linecolor": "white",
            "showbackground": true,
            "ticks": "",
            "zerolinecolor": "white"
           },
           "yaxis": {
            "backgroundcolor": "#E5ECF6",
            "gridcolor": "white",
            "gridwidth": 2,
            "linecolor": "white",
            "showbackground": true,
            "ticks": "",
            "zerolinecolor": "white"
           },
           "zaxis": {
            "backgroundcolor": "#E5ECF6",
            "gridcolor": "white",
            "gridwidth": 2,
            "linecolor": "white",
            "showbackground": true,
            "ticks": "",
            "zerolinecolor": "white"
           }
          },
          "shapedefaults": {
           "line": {
            "color": "#2a3f5f"
           }
          },
          "ternary": {
           "aaxis": {
            "gridcolor": "white",
            "linecolor": "white",
            "ticks": ""
           },
           "baxis": {
            "gridcolor": "white",
            "linecolor": "white",
            "ticks": ""
           },
           "bgcolor": "#E5ECF6",
           "caxis": {
            "gridcolor": "white",
            "linecolor": "white",
            "ticks": ""
           }
          },
          "title": {
           "x": 0.05
          },
          "xaxis": {
           "automargin": true,
           "gridcolor": "white",
           "linecolor": "white",
           "ticks": "",
           "title": {
            "standoff": 15
           },
           "zerolinecolor": "white",
           "zerolinewidth": 2
          },
          "yaxis": {
           "automargin": true,
           "gridcolor": "white",
           "linecolor": "white",
           "ticks": "",
           "title": {
            "standoff": 15
           },
           "zerolinecolor": "white",
           "zerolinewidth": 2
          }
         }
        }
       }
      }
     },
     "metadata": {},
     "output_type": "display_data"
    }
   ],
   "source": [
    "input_string = \"The reason I ate the apple was \"\n",
    "\n",
    "with torch.no_grad():\n",
    "    # Total number of candidates\n",
    "    pool = args.pool\n",
    "    # Number of selected beams\n",
    "    beta = args.beta\n",
    "    x = tokenizer([input_string])[\"input_ids\"]\n",
    "    reset_td = env.reset(\n",
    "        TensorDict(observation=x, batch_size=[1]).repeat_interleave(args.beta)\n",
    "    )\n",
    "    tds = []\n",
    "    # beam search\n",
    "    td = reset_td\n",
    "    reset_td = reset_td[0].clone()\n",
    "\n",
    "    pbar = tqdm.tqdm(range(args.nsteps))\n",
    "    for _ in pbar:\n",
    "        td = policy(td)\n",
    "        next_td = env.step(td)\n",
    "\n",
    "        tds.append(next_td)\n",
    "        next_td_filtered = next_td.exclude(\n",
    "            \"observation\", \"text\", (\"next\", \"observation\"), (\"next\", \"text\")\n",
    "        )\n",
    "        forest.extend(next_td_filtered)\n",
    "        pbar.set_description(f\"Forest length: {len(forest)}\")\n",
    "\n",
    "        print(\"action\", next_td[\"action\"])\n",
    "        td = env.step_mdp(next_td)\n",
    "        print(\"hash\", td[\"hashing\"])\n",
    "\n",
    "    tds = TensorDict.lazy_stack(tds, -1)\n",
    "    for i in range(tds.shape[0]):\n",
    "        print(tds[i, -1][\"next\", \"text\"])\n",
    "\n",
    "    tree = forest.get_tree(reset_td)\n",
    "    valid_paths = list(tree.valid_paths())\n",
    "    print(\"valid paths\", valid_paths)\n",
    "\n",
    "    for path in valid_paths:\n",
    "        rollout = tree.rollout_from_path(path)\n",
    "        print(input_string, tokenizer.decode(rollout[\"action\"].squeeze(-1)))\n",
    "        print(rollout[\"logits_select\"].sum())\n",
    "\n",
    "    def make_labels(local_tree, path):\n",
    "        if path:\n",
    "            r = tree.rollout_from_path(path)\n",
    "            actions = r[\"action\"]\n",
    "            return input_string + tokenizer.decode(actions.squeeze(-1))\n",
    "        return input_string\n",
    "\n",
    "    tree.plot(make_labels=make_labels)"
   ]
  },
  {
   "cell_type": "code",
   "execution_count": null,
   "metadata": {},
   "outputs": [],
   "source": []
  }
 ],
 "metadata": {
  "kernelspec": {
   "display_name": "torchrl-0",
   "language": "python",
   "name": "python3"
  },
  "language_info": {
   "codemirror_mode": {
    "name": "ipython",
    "version": 3
   },
   "file_extension": ".py",
   "mimetype": "text/x-python",
   "name": "python",
   "nbconvert_exporter": "python",
   "pygments_lexer": "ipython3",
   "version": "3.11.10"
  }
 },
 "nbformat": 4,
 "nbformat_minor": 2
}
