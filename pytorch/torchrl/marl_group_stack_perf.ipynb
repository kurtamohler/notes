{
 "cells": [
  {
   "cell_type": "markdown",
   "metadata": {},
   "source": [
    "A question came up [here](https://github.com/pytorch/rl/issues/2566#issuecomment-2499337245) about whether there is a significant performance difference between two different methods of creating MARL groupings:\n",
    "\n",
    "1. The current behavior, where each env wrapper has a `group_map` argument, and during each `EnvBase.reset`/`EnvBase.step` call, the particular env wrapper is responsible for stacking output tensordicts and unstacking input tensordicts according to the map.\n",
    "\n",
    "2. The proposed behavior, where env wrappers are no longer responsible for stacking/unstacking, and we use a transform for that instead.\n",
    "\n",
    "I'd like to approximate the relative performance of these."
   ]
  },
  {
   "cell_type": "markdown",
   "metadata": {},
   "source": []
  }
 ],
 "metadata": {
  "language_info": {
   "name": "python"
  }
 },
 "nbformat": 4,
 "nbformat_minor": 2
}
